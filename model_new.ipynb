{
 "cells": [
  {
   "cell_type": "markdown",
   "metadata": {},
   "source": [
    "# 自動特徴量選択による次元削減とSVMを用いたMNISTの分類\n",
    "\n",
    "## はじめに\n",
    "    MNISTという数字手書き文字のデータセットがある。このデータは28×28ピクセルの手書き数字の画像に対して、0から9までのラベルが振られたデータである。このレポートでは、10000枚の手書き数字の画像がそれぞれ0から9までのどの数字にあたるかを識別するモデルの生成、および生成モデルを用いた推論を実装する。また、性能向上のために用いた交差検証、グリッドサーチ、および自動特徴量選択についても記載する。"
   ]
  },
  {
   "cell_type": "code",
   "execution_count": null,
   "metadata": {},
   "outputs": [],
   "source": [
    "from sklearn import svm, metrics\n",
    "from sklearn.model_selection import train_test_split, GridSearchCV\n",
    "from sklearn.pipeline import Pipeline\n",
    "from sklearn.feature_selection import SelectFromModel\n",
    "from sklearn.ensemble import RandomForestClassifier as RFC\n",
    "from sklearn.preprocessing import StandardScaler\n",
    "import numpy as np\n",
    "import pandas as pd\n",
    "import matplotlib.pyplot as plt\n",
    "%matplotlib inline\n",
    "\n",
    "DATAPATH = \"data/digits.csv\"\n",
    "df = pd.read_csv(DATAPATH)\n",
    "X = df.drop(\"label\",axis=1).values\n",
    "y = df[\"label\"].values\n",
    "X_train,X_test,y_train,y_test = train_test_split(X,y,test_size=0.2)"
   ]
  },
  {
   "cell_type": "markdown",
   "metadata": {},
   "source": []
  },
  {
   "cell_type": "code",
   "execution_count": 23,
   "metadata": {},
   "outputs": [
    {
     "name": "stdout",
     "output_type": "stream",
     "text": [
      "0       1\n",
      "1       0\n",
      "2       1\n",
      "3       4\n",
      "4       0\n",
      "5       0\n",
      "6       7\n",
      "7       3\n",
      "8       5\n",
      "9       3\n",
      "10      8\n",
      "11      9\n",
      "12      1\n",
      "13      3\n",
      "14      3\n",
      "15      1\n",
      "16      2\n",
      "17      0\n",
      "18      7\n",
      "19      5\n",
      "20      8\n",
      "21      6\n",
      "22      2\n",
      "23      0\n",
      "24      2\n",
      "25      3\n",
      "26      6\n",
      "27      9\n",
      "28      9\n",
      "29      7\n",
      "       ..\n",
      "9970    4\n",
      "9971    2\n",
      "9972    8\n",
      "9973    6\n",
      "9974    0\n",
      "9975    8\n",
      "9976    2\n",
      "9977    1\n",
      "9978    0\n",
      "9979    4\n",
      "9980    2\n",
      "9981    1\n",
      "9982    3\n",
      "9983    1\n",
      "9984    7\n",
      "9985    7\n",
      "9986    6\n",
      "9987    5\n",
      "9988    6\n",
      "9989    2\n",
      "9990    7\n",
      "9991    3\n",
      "9992    4\n",
      "9993    6\n",
      "9994    1\n",
      "9995    5\n",
      "9996    0\n",
      "9997    4\n",
      "9998    7\n",
      "9999    9\n",
      "Name: label, Length: 10000, dtype: int64\n"
     ]
    }
   ],
   "source": [
    "pipe = Pipeline([(\"scalar\", StandardScaler()),(\"svm\",svm.SVC(C= 1000, degree= 2, \n",
    "                                                           gamma = 0.001, kernel = 'poly'))])\n",
    "pipe_grid = Pipeline([(\"scalar\", StandardScaler()),(\"svm\",svm.SVC())])    \n",
    "selecter_pipe = Pipeline([(\"scalar\", StandardScaler()),\n",
    "                         (\"select\",SelectFromModel(RFC(n_estimators=100,random_state=42),\n",
    "                                                   threshold=\"median\"))])"
   ]
  },
  {
   "cell_type": "code",
   "execution_count": null,
   "metadata": {},
   "outputs": [],
   "source": [
    "def fit_model_CV(X_train,X_test,y_train,y_test,pipe):\n",
    "        parameters = [\n",
    "                    {'svm__C': [1, 10, 100, 1000], 'svm__kernel': ['linear']},\n",
    "                    {'svm__C': [1, 10, 100, 1000], 'svm__kernel': ['rbf'], 'svm__gamma': [0.001, 0.0001]},\n",
    "                    {'svm__C': [1, 10, 100, 1000], 'svm__kernel': ['poly'], 'svm__degree': [2, 3, 4], 'svm__gamma': [0.001, 0.0001]},\n",
    "                    {'svm__C': [1, 10, 100, 1000], 'svm__kernel': ['sigmoid'], 'svm__gamma': [0.001, 0.0001]}]\n",
    "        clf = GridSearchCV(pipe, param_grid=parameters,verbose=2,n_jobs=-1,cv=2)\n",
    "        clf.fit(X_train,y_train)\n",
    "        print(\"Best cv accuracy:{:.2f}\".format(clf.best_score_))\n",
    "        print(\"Test set score: {:.2f}\".format(clf.score(X_test,y_test)))\n",
    "        print(\"Best parameters:{}\".format(clf.best_params_))\n",
    "        return pipe"
   ]
  },
  {
   "cell_type": "code",
   "execution_count": null,
   "metadata": {},
   "outputs": [],
   "source": [
    "fit_model_CV(X_train,X_test,y_train,y_test,pipe_grid)"
   ]
  },
  {
   "cell_type": "code",
   "execution_count": 7,
   "metadata": {},
   "outputs": [
    {
     "name": "stderr",
     "output_type": "stream",
     "text": [
      "C:\\Users\\usami\\Anaconda3\\lib\\site-packages\\sklearn\\utils\\validation.py:475: DataConversionWarning: Data with input dtype int64 was converted to float64 by StandardScaler.\n",
      "  warnings.warn(msg, DataConversionWarning)\n",
      "C:\\Users\\usami\\Anaconda3\\lib\\site-packages\\sklearn\\utils\\validation.py:475: DataConversionWarning: Data with input dtype int64 was converted to float64 by StandardScaler.\n",
      "  warnings.warn(msg, DataConversionWarning)\n"
     ]
    }
   ],
   "source": [
    "X_train_l1 = selecter_pipe.fit_transform(X_train,y_train)\n",
    "X_test_l1 = selecter_pipe.transform(X_test)"
   ]
  },
  {
   "cell_type": "code",
   "execution_count": 12,
   "metadata": {},
   "outputs": [
    {
     "name": "stdout",
     "output_type": "stream",
     "text": [
      "0.969\n",
      "             precision    recall  f1-score   support\n",
      "\n",
      "          0       0.97      0.99      0.98       216\n",
      "          1       0.99      0.98      0.99       195\n",
      "          2       0.96      0.95      0.96       198\n",
      "          3       0.97      0.96      0.97       202\n",
      "          4       0.97      0.97      0.97       200\n",
      "          5       0.96      0.97      0.97       182\n",
      "          6       1.00      0.97      0.98       218\n",
      "          7       0.98      0.95      0.96       209\n",
      "          8       0.94      0.95      0.94       196\n",
      "          9       0.94      0.98      0.96       184\n",
      "\n",
      "avg / total       0.97      0.97      0.97      2000\n",
      "\n",
      "[[214   0   0   0   0   0   1   0   0   1]\n",
      " [  0 192   0   1   0   1   0   1   0   0]\n",
      " [  1   0 189   0   2   0   0   1   5   0]\n",
      " [  0   0   1 194   0   1   0   0   6   0]\n",
      " [  0   0   2   0 195   0   0   0   0   3]\n",
      " [  0   0   2   2   0 177   0   0   0   1]\n",
      " [  3   0   0   0   0   1 212   0   2   0]\n",
      " [  1   1   1   1   2   0   0 198   0   5]\n",
      " [  1   0   0   2   0   4   0   0 187   2]\n",
      " [  0   0   1   0   1   0   0   2   0 180]]\n"
     ]
    }
   ],
   "source": [
    "y_pred = clf.predict(X_test_l1)\n",
    "print(clf.score(X_test_l1,y_test))\n",
    "print(metrics.classification_report(y_test, y_pred, \n",
    "                                    target_names=[\"0\",\"1\",\"2\",\"3\",\"4\",\"5\",\"6\",\"7\",\"8\",\"9\"]))\n",
    "print(metrics.confusion_matrix(y_test, y_pred, labels=range(10)))"
   ]
  },
  {
   "cell_type": "code",
   "execution_count": 13,
   "metadata": {
    "scrolled": true
   },
   "outputs": [
    {
     "name": "stdout",
     "output_type": "stream",
     "text": [
      "[[103, 5], [111, 5], [502, 5], [758, 3], [803, 9], [1305, 5], [1374, 0], [1552, 9], [1839, 3]]\n"
     ]
    }
   ],
   "source": [
    "wrong_prediction = []\n",
    "for counter,i in enumerate(y_test):\n",
    "    if y_test[counter] == 8:\n",
    "        if y_pred[counter]!=i:\n",
    "            keep_list = [counter,y_pred[counter]]\n",
    "            wrong_prediction.append(keep_list)\n",
    "print(wrong_prediction)"
   ]
  },
  {
   "cell_type": "code",
   "execution_count": 15,
   "metadata": {},
   "outputs": [
    {
     "data": {
      "image/png": "[encoded data removed]",
      "text/plain": [
       "<Figure size 1080x864 with 8 Axes>"
      ]
     },
     "metadata": {},
     "output_type": "display_data"
    }
   ],
   "source": [
    "image_shape = [28,28]\n",
    "fix, axes = plt.subplots(2,4,figsize=(15,12),\n",
    "                        subplot_kw={\"xticks\":(),\"yticks\":()})\n",
    "for i,ax in zip(wrong_prediction,axes.ravel()):\n",
    "    ax.imshow(X_test[i[0]].reshape(image_shape))\n",
    "    ax.set_title(\"pred:{}\".format(i[1]))"
   ]
  },
  {
   "cell_type": "code",
   "execution_count": 19,
   "metadata": {},
   "outputs": [
    {
     "name": "stderr",
     "output_type": "stream",
     "text": [
      "C:\\Users\\usami\\Anaconda3\\lib\\site-packages\\sklearn\\utils\\validation.py:475: DataConversionWarning: Data with input dtype int64 was converted to float64 by StandardScaler.\n",
      "  warnings.warn(msg, DataConversionWarning)\n"
     ]
    },
    {
     "name": "stdout",
     "output_type": "stream",
     "text": [
      "0.9575\n",
      "             precision    recall  f1-score   support\n",
      "\n",
      "          0       0.98      0.99      0.98       216\n",
      "          1       0.96      0.98      0.97       195\n",
      "          2       0.96      0.96      0.96       198\n",
      "          3       0.96      0.94      0.95       202\n",
      "          4       0.95      0.95      0.95       200\n",
      "          5       0.94      0.98      0.96       182\n",
      "          6       1.00      0.96      0.98       218\n",
      "          7       0.97      0.92      0.94       209\n",
      "          8       0.92      0.94      0.93       196\n",
      "          9       0.94      0.95      0.95       184\n",
      "\n",
      "avg / total       0.96      0.96      0.96      2000\n",
      "\n",
      "[[214   0   0   0   0   1   0   0   0   1]\n",
      " [  0 192   1   1   0   0   0   1   0   0]\n",
      " [  0   0 190   2   2   0   0   1   3   0]\n",
      " [  0   2   0 189   0   2   0   0   8   1]\n",
      " [  1   1   0   0 191   2   0   0   1   4]\n",
      " [  0   2   1   1   0 178   0   0   0   0]\n",
      " [  1   1   1   0   0   2 210   0   3   0]\n",
      " [  1   2   4   0   4   1   0 192   1   4]\n",
      " [  2   1   0   2   2   4   0   0 184   1]\n",
      " [  0   0   1   1   3   0   0   4   0 175]]\n"
     ]
    }
   ],
   "source": [
    "pipe.fit(X_train,y_train)\n",
    "y_pred = pipe.predict(X_test)\n",
    "print(pipe.score(X_test,y_test))\n",
    "print(metrics.classification_report(y_test, y_pred, \n",
    "                                    target_names=[\"0\",\"1\",\"2\",\"3\",\"4\",\"5\",\"6\",\"7\",\"8\",\"9\"]))\n",
    "print(metrics.confusion_matrix(y_test, y_pred, labels=range(10)))"
   ]
  },
  {
   "cell_type": "code",
   "execution_count": 21,
   "metadata": {},
   "outputs": [
    {
     "name": "stdout",
     "output_type": "stream",
     "text": [
      "[[103, 5], [337, 5], [758, 0], [1264, 4], [1374, 0], [1444, 3], [1478, 3], [1513, 4], [1552, 9], [1565, 5], [1716, 1], [1839, 5]]\n"
     ]
    }
   ],
   "source": [
    "wrong_prediction_8_l1 = []\n",
    "for counter,i in enumerate(y_test):\n",
    "    if y_test[counter] == 8:\n",
    "        if y_pred[counter]!=i:\n",
    "            keep_list = [counter,y_pred[counter]]\n",
    "            wrong_prediction_8_l1.append(keep_list)\n",
    "print(wrong_prediction_8_l1)"
   ]
  },
  {
   "cell_type": "code",
   "execution_count": 22,
   "metadata": {},
   "outputs": [
    {
     "data": {
      "image/png": "[encoded data removed]",
      "text/plain": [
       "<Figure size 1080x864 with 8 Axes>"
      ]
     },
     "metadata": {},
     "output_type": "display_data"
    }
   ],
   "source": [
    "fix, axes = plt.subplots(2,4,figsize=(15,12),\n",
    "                        subplot_kw={\"xticks\":(),\"yticks\":()})\n",
    "for i,ax in zip(wrong_prediction,axes.ravel()):\n",
    "    ax.imshow(X_test[i[0]].reshape(image_shape))\n",
    "    ax.set_title(\"pred:{}\".format(i[1]))"
   ]
  },
  {
   "cell_type": "code",
   "execution_count": null,
   "metadata": {},
   "outputs": [],
   "source": []
  }
 ],
 "metadata": {
  "kernelspec": {
   "display_name": "Python 3",
   "language": "python",
   "name": "python3"
  },
  "language_info": {
   "codemirror_mode": {
    "name": "ipython",
    "version": 3
   },
   "file_extension": ".py",
   "mimetype": "text/x-python",
   "name": "python",
   "nbconvert_exporter": "python",
   "pygments_lexer": "ipython3",
   "version": "3.7.0"
  }
 },
 "nbformat": 4,
 "nbformat_minor": 2
}
