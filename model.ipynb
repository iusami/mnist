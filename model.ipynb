{
 "cells": [
  {
   "cell_type": "code",
   "execution_count": 3,
   "metadata": {},
   "outputs": [],
   "source": [
    "from sklearn import svm, metrics\n",
    "from sklearn.model_selection import train_test_split, GridSearchCV\n",
    "import numpy as np\n",
    "import pandas as pd\n",
    "import matplotlib.pyplot as plt\n",
    "\n",
    "def model(datapath):\n",
    "    df = pd.read_csv(datapath)\n",
    "    #df_s = df.sort_values('label')\n",
    "    y = df[\"label\"].values\n",
    "    labels = df[\"label\"] \n",
    "    X = df.drop(\"label\",axis=1).values/255\n",
    "    #print(df.head())\n",
    "    #print(df.shape)\n",
    "    print(y)\n",
    "    print(X)\n",
    "    X_train,X_test,y_train,y_test = train_test_split(X,y,test_size=0.2)\n",
    "    svc = svm.SVC()\n",
    "    parameters = {\"gamma\":[0.0001, 0.0005, 0.001, 0.005, 0.01, 0.1]}\n",
    "    clf = GridSearchCV(svc, parameters, verbose=1)\n",
    "    clf.fit(X_train,y_train)\n",
    "    print(\"Best estimator found by grid search:\")\n",
    "    print(clf.best_estimator_)\n",
    "    test_score = clf.score(X_test,y_test)\n",
    "    y_pred = clf.predict(X_test)\n",
    "    print(test_score)\n",
    "    print(metrics.classification_report(y_test, y_pred, \n",
    "                                        target_names=[\"0\",\"1\",\"2\",\"3\",\"4\",\"5\",\"6\",\"7\",\"8\",\"9\"]))\n",
    "    print(metrics.confusion_matrix(y_test, y_pred, labels=range(10)))\n",
    "    "
   ]
  },
  {
   "cell_type": "code",
   "execution_count": 4,
   "metadata": {},
   "outputs": [
    {
     "name": "stdout",
     "output_type": "stream",
     "text": [
      "[1 0 1 ... 4 7 9]\n",
      "[[0. 0. 0. ... 0. 0. 0.]\n",
      " [0. 0. 0. ... 0. 0. 0.]\n",
      " [0. 0. 0. ... 0. 0. 0.]\n",
      " ...\n",
      " [0. 0. 0. ... 0. 0. 0.]\n",
      " [0. 0. 0. ... 0. 0. 0.]\n",
      " [0. 0. 0. ... 0. 0. 0.]]\n",
      "Fitting 3 folds for each of 6 candidates, totalling 18 fits\n"
     ]
    },
    {
     "name": "stderr",
     "output_type": "stream",
     "text": [
      "/usr/local/lib/python3.5/dist-packages/sklearn/model_selection/_split.py:1943: FutureWarning: You should specify a value for 'cv' instead of relying on the default value. The default value will change from 3 to 5 in version 0.22.\n",
      "  warnings.warn(CV_WARNING, FutureWarning)\n",
      "[Parallel(n_jobs=1)]: Using backend SequentialBackend with 1 concurrent workers.\n",
      "[Parallel(n_jobs=1)]: Done  18 out of  18 | elapsed: 12.7min finished\n"
     ]
    },
    {
     "name": "stdout",
     "output_type": "stream",
     "text": [
      "Best estimator found by grid search:\n",
      "SVC(C=1.0, cache_size=200, class_weight=None, coef0=0.0,\n",
      "  decision_function_shape='ovr', degree=3, gamma=0.01, kernel='rbf',\n",
      "  max_iter=-1, probability=False, random_state=None, shrinking=True,\n",
      "  tol=0.001, verbose=False)\n",
      "0.9475\n",
      "              precision    recall  f1-score   support\n",
      "\n",
      "           0       0.96      0.97      0.97       195\n",
      "           1       0.96      0.97      0.96       234\n",
      "           2       0.95      0.95      0.95       214\n",
      "           3       0.94      0.93      0.94       183\n",
      "           4       0.95      0.94      0.95       202\n",
      "           5       0.96      0.95      0.95       182\n",
      "           6       0.94      0.98      0.96       189\n",
      "           7       0.96      0.93      0.94       218\n",
      "           8       0.95      0.92      0.93       189\n",
      "           9       0.90      0.94      0.92       194\n",
      "\n",
      "   micro avg       0.95      0.95      0.95      2000\n",
      "   macro avg       0.95      0.95      0.95      2000\n",
      "weighted avg       0.95      0.95      0.95      2000\n",
      "\n",
      "[[189   0   0   0   1   0   3   0   2   0]\n",
      " [  0 226   1   2   0   2   1   0   1   1]\n",
      " [  0   1 203   1   2   0   0   4   2   1]\n",
      " [  0   3   2 171   0   1   1   0   4   1]\n",
      " [  0   2   0   0 190   0   3   1   0   6]\n",
      " [  3   0   1   3   0 172   2   0   0   1]\n",
      " [  2   0   1   0   0   1 185   0   0   0]\n",
      " [  1   1   4   0   3   0   0 202   0   7]\n",
      " [  0   1   2   4   0   3   1   1 174   3]\n",
      " [  1   1   0   1   3   1   0   3   1 183]]\n"
     ]
    }
   ],
   "source": [
    "DATAPATH = \"data/digits.csv\"\n",
    "model(DATAPATH)"
   ]
  },
  {
   "cell_type": "code",
   "execution_count": null,
   "metadata": {},
   "outputs": [],
   "source": []
  }
 ],
 "metadata": {
  "kernelspec": {
   "display_name": "Python 3",
   "language": "python",
   "name": "python3"
  },
  "language_info": {
   "codemirror_mode": {
    "name": "ipython",
    "version": 3
   },
   "file_extension": ".py",
   "mimetype": "text/x-python",
   "name": "python",
   "nbconvert_exporter": "python",
   "pygments_lexer": "ipython3",
   "version": "3.5.2"
  }
 },
 "nbformat": 4,
 "nbformat_minor": 2
}
