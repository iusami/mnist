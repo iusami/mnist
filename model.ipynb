{
 "cells": [
  {
   "cell_type": "code",
   "execution_count": 1,
   "metadata": {},
   "outputs": [],
   "source": [
    "from sklearn import svm, metrics\n",
    "from sklearn.model_selection import train_test_split, GridSearchCV\n",
    "from sklearn.manifold import TSNE\n",
    "import numpy as np\n",
    "import pandas as pd\n",
    "import matplotlib.pyplot as plt\n",
    "%matplotlib inline\n",
    "\n",
    "\n",
    "def model(X,y,CV_flag):\n",
    "    if CV_flag == True:\n",
    "        parameters = [\n",
    "            {'C': [1, 10, 100, 1000], 'kernel': ['linear']},\n",
    "            {'C': [1, 10, 100, 1000], 'kernel': ['rbf'], 'gamma': [0.001, 0.0001]},\n",
    "            {'C': [1, 10, 100, 1000], 'kernel': ['poly'], 'degree': [2, 3, 4], 'gamma': [0.001, 0.0001]},\n",
    "            {'C': [1, 10, 100, 1000], 'kernel': ['sigmoid'], 'gamma': [0.001, 0.0001]}\n",
    "            ]\n",
    "        svc=svm.SVC()\n",
    "        clf = GridSearchCV(svc, parameters, verbose=2, n_jobs=3)\n",
    "        #clf=svc\n",
    "        clf.fit(X,y)\n",
    "        print(\"Best estimator found by grid search:\")\n",
    "        print(clf.best_estimator_)\n",
    "\n",
    "    else:\n",
    "        clf = svm.SVC(C=1000, kernel='poly', gamma=0.001,degree=2)\n",
    "        #svc=svm.SVC()\n",
    "        #parameters=[{'C': [1000], 'kernel': ['poly'], \n",
    "        #             'degree': [2], 'gamma': [0.1,0.01,0.001]}]\n",
    "        #clf = GridSearchCV(svc, parameters, verbose=2, n_jobs=3)\n",
    "        clf.fit(X,y)\n",
    "\n",
    "    return clf\n",
    "\n",
    "\n",
    "def model_estimation(fitted_model, X_test, y_test):\n",
    "    test_score = fitted_model.score(X_test,y_test)\n",
    "    y_pred = fitted_model.predict(X_test)\n",
    "    print(test_score)\n",
    "    print(metrics.classification_report(y_test, y_pred, \n",
    "                                        target_names=[\"0\",\"1\",\"2\",\"3\",\"4\",\"5\",\"6\",\"7\",\"8\",\"9\"]))\n",
    "    print(metrics.confusion_matrix(y_test, y_pred, labels=range(10)))\n",
    "    plt.clf()\n",
    "\n",
    "def plot_decision_regions(x, y, model, resolution=0.1):\n",
    "\n",
    "    ## 今回は被説明変数が3クラスのため散布図のマーカータイプと3種類の色を用意\n",
    "    ## クラスの種類数に応じて拡張していくのが良いでしょう\n",
    "    \n",
    "    colors = [\"red\",\"blue\",\"orange\",\"greenyellow\",\"green\",\n",
    "          \"purple\", \"cyan\",\"yellow\",\"brown\",\"black\"]\n",
    "    ## 2変数の入力データの最小値から最大値まで引数resolutionの幅でメッシュを描く\n",
    "    x1_min, x1_max = x[:, 0].min()-1, x[:, 0].max()+1\n",
    "    x2_min, x2_max = x[:, 1].min()-1, x[:, 1].max()+1\n",
    "    x1_mesh, x2_mesh = np.meshgrid(np.arange(x1_min, x1_max, resolution),\n",
    "                                   np.arange(x2_min, x2_max, resolution))\n",
    "\n",
    "    ## メッシュデータ全部を学習モデルで分類\n",
    "    z = model.predict(np.array([x1_mesh.ravel(), x2_mesh.ravel()]).T)\n",
    "    z = z.reshape(x1_mesh.shape)\n",
    "\n",
    "    ## メッシュデータと分離クラスを使って決定境界を描いている\n",
    "    plt.contourf(x1_mesh, x2_mesh, z, alpha=0.4, cmap=cmap)\n",
    "    plt.xlim(x1_mesh.min(), x1_mesh.max())\n",
    "    plt.ylim(x2_mesh.min(), x2_mesh.max())\n",
    "\n",
    "    for idx, cl in enumerate(np.unique(y)):\n",
    "        plt.scatter(x=x[y == cl, 0],\n",
    "                    y=x[y == cl, 1],\n",
    "                    alpha=0.6,\n",
    "                    c=cmap(idx),\n",
    "                    edgecolors='black',\n",
    "                    marker=markers[idx],\n",
    "                    label=cl)"
   ]
  },
  {
   "cell_type": "code",
   "execution_count": 2,
   "metadata": {
    "scrolled": true
   },
   "outputs": [
    {
     "name": "stdout",
     "output_type": "stream",
     "text": [
      "[1 0 1 ... 4 7 9]\n",
      "[[0. 0. 0. ... 0. 0. 0.]\n",
      " [0. 0. 0. ... 0. 0. 0.]\n",
      " [0. 0. 0. ... 0. 0. 0.]\n",
      " ...\n",
      " [0. 0. 0. ... 0. 0. 0.]\n",
      " [0. 0. 0. ... 0. 0. 0.]\n",
      " [0. 0. 0. ... 0. 0. 0.]]\n"
     ]
    }
   ],
   "source": [
    "DATAPATH = \"data/digits.csv\"\n",
    "CV_flag = False\n",
    "df = pd.read_csv(DATAPATH)\n",
    "y = df[\"label\"].values\n",
    "labels = df[\"label\"] \n",
    "X = df.drop(\"label\",axis=1).values/255\n",
    "print(y)\n",
    "print(X)\n",
    "X_train,X_test,y_train,y_test = train_test_split(X,y,test_size=0.2)\n",
    "clf = model(X_train,y_train,CV_flag)"
   ]
  },
  {
   "cell_type": "code",
   "execution_count": 3,
   "metadata": {},
   "outputs": [
    {
     "name": "stdout",
     "output_type": "stream",
     "text": [
      "0.9565\n",
      "             precision    recall  f1-score   support\n",
      "\n",
      "          0       0.96      0.98      0.97       199\n",
      "          1       0.97      0.99      0.98       210\n",
      "          2       0.93      0.97      0.95       182\n",
      "          3       0.94      0.97      0.95       203\n",
      "          4       0.95      0.97      0.96       185\n",
      "          5       0.94      0.94      0.94       189\n",
      "          6       0.97      0.95      0.96       220\n",
      "          7       0.97      0.95      0.96       214\n",
      "          8       0.97      0.92      0.94       205\n",
      "          9       0.97      0.94      0.95       193\n",
      "\n",
      "avg / total       0.96      0.96      0.96      2000\n",
      "\n",
      "[[195   0   0   0   0   2   1   0   1   0]\n",
      " [  0 207   2   0   0   0   0   1   0   0]\n",
      " [  1   1 176   0   2   0   2   0   0   0]\n",
      " [  1   0   1 196   0   0   0   2   2   1]\n",
      " [  0   0   2   0 179   0   1   0   0   3]\n",
      " [  1   0   2   5   1 178   2   0   0   0]\n",
      " [  4   1   0   0   2   3 210   0   0   0]\n",
      " [  0   2   4   1   1   1   0 203   0   2]\n",
      " [  0   3   3   6   0   4   0   1 188   0]\n",
      " [  2   0   0   0   4   2   0   2   2 181]]\n"
     ]
    },
    {
     "data": {
      "text/plain": [
       "<Figure size 432x288 with 0 Axes>"
      ]
     },
     "metadata": {},
     "output_type": "display_data"
    }
   ],
   "source": [
    "model_estimation(clf, X_test, y_test)"
   ]
  },
  {
   "cell_type": "code",
   "execution_count": 4,
   "metadata": {},
   "outputs": [
    {
     "name": "stderr",
     "output_type": "stream",
     "text": [
      "[Parallel(n_jobs=3)]: Done   3 out of   5 | elapsed:   31.9s remaining:   21.2s\n",
      "[Parallel(n_jobs=3)]: Done   5 out of   5 | elapsed:   52.8s finished\n"
     ]
    }
   ],
   "source": [
    "from sklearn.model_selection import cross_val_score\n",
    "svm_ = svm.SVC(C=1000,gamma=0.001,kernel=\"poly\",degree=2)\n",
    "scores=cross_val_score(svm_,X,y,cv=5,verbose=2,n_jobs=3)"
   ]
  },
  {
   "cell_type": "code",
   "execution_count": 5,
   "metadata": {},
   "outputs": [
    {
     "name": "stdout",
     "output_type": "stream",
     "text": [
      "[0.96255617 0.95852074 0.9645     0.95397699 0.95743615]\n"
     ]
    }
   ],
   "source": [
    "print(scores)"
   ]
  },
  {
   "cell_type": "code",
   "execution_count": 6,
   "metadata": {
    "scrolled": false
   },
   "outputs": [
    {
     "name": "stdout",
     "output_type": "stream",
     "text": [
      "[t-SNE] Computing 91 nearest neighbors...\n",
      "[t-SNE] Indexed 8000 samples in 0.494s...\n",
      "[t-SNE] Computed neighbors for 8000 samples in 105.752s...\n",
      "[t-SNE] Computed conditional probabilities for sample 1000 / 8000\n",
      "[t-SNE] Computed conditional probabilities for sample 2000 / 8000\n",
      "[t-SNE] Computed conditional probabilities for sample 3000 / 8000\n",
      "[t-SNE] Computed conditional probabilities for sample 4000 / 8000\n",
      "[t-SNE] Computed conditional probabilities for sample 5000 / 8000\n",
      "[t-SNE] Computed conditional probabilities for sample 6000 / 8000\n",
      "[t-SNE] Computed conditional probabilities for sample 7000 / 8000\n",
      "[t-SNE] Computed conditional probabilities for sample 8000 / 8000\n",
      "[t-SNE] Mean sigma: 2.096096\n",
      "[t-SNE] KL divergence after 250 iterations with early exaggeration: 85.799927\n",
      "[t-SNE] Error after 1000 iterations: 1.722267\n",
      "[t-SNE] Computing 91 nearest neighbors...\n",
      "[t-SNE] Indexed 2000 samples in 0.060s...\n",
      "[t-SNE] Computed neighbors for 2000 samples in 5.930s...\n",
      "[t-SNE] Computed conditional probabilities for sample 1000 / 2000\n",
      "[t-SNE] Computed conditional probabilities for sample 2000 / 2000\n",
      "[t-SNE] Mean sigma: 2.491604\n",
      "[t-SNE] KL divergence after 250 iterations with early exaggeration: 75.518539\n",
      "[t-SNE] Error after 1000 iterations: 1.217794\n"
     ]
    }
   ],
   "source": [
    "tsne = TSNE(random_state=42,verbose=1,)\n",
    "tsne_train = tsne.fit_transform(X_train)\n",
    "tsne_test = tsne.fit_transform(X_test)"
   ]
  },
  {
   "cell_type": "code",
   "execution_count": 9,
   "metadata": {},
   "outputs": [
    {
     "name": "stdout",
     "output_type": "stream",
     "text": [
      "Fitting 3 folds for each of 8 candidates, totalling 24 fits\n"
     ]
    },
    {
     "name": "stderr",
     "output_type": "stream",
     "text": [
      "[Parallel(n_jobs=3)]: Done  24 out of  24 | elapsed:  1.7min finished\n"
     ]
    },
    {
     "name": "stdout",
     "output_type": "stream",
     "text": [
      "Best estimator found by grid search:\n",
      "SVC(C=1000, cache_size=200, class_weight=None, coef0=0.0,\n",
      "  decision_function_shape='ovr', degree=3, gamma=0.001, kernel='rbf',\n",
      "  max_iter=-1, probability=False, random_state=None, shrinking=True,\n",
      "  tol=0.001, verbose=False)\n"
     ]
    }
   ],
   "source": [
    "# モデルの学習\n",
    "#clf = model(tsne_train, y_train,True)\n",
    "parameters = [\n",
    "            {'C': [1, 10, 100, 1000], 'kernel': ['rbf'], 'gamma': [0.001, 0.0001]},\n",
    "            ]\n",
    "svc=svm.SVC()\n",
    "clf = GridSearchCV(svc, parameters, verbose=2, n_jobs=3)\n",
    "#clf=svc\n",
    "clf.fit(tsne_train,y_train)\n",
    "print(\"Best estimator found by grid search:\")\n",
    "print(clf.best_estimator_)"
   ]
  },
  {
   "cell_type": "code",
   "execution_count": 10,
   "metadata": {
    "scrolled": false
   },
   "outputs": [
    {
     "name": "stdout",
     "output_type": "stream",
     "text": [
      "0.0345\n",
      "             precision    recall  f1-score   support\n",
      "\n",
      "          0       0.00      0.00      0.00       199\n",
      "          1       0.00      0.00      0.00       210\n",
      "          2       0.01      0.01      0.01       182\n",
      "          3       0.01      0.02      0.02       203\n",
      "          4       0.00      0.00      0.00       185\n",
      "          5       0.12      0.24      0.16       189\n",
      "          6       0.00      0.00      0.00       220\n",
      "          7       0.00      0.00      0.00       214\n",
      "          8       0.04      0.06      0.04       205\n",
      "          9       0.04      0.03      0.03       193\n",
      "\n",
      "avg / total       0.02      0.03      0.03      2000\n",
      "\n",
      "[[  0  32 154   1   1   0   0   0  11   0]\n",
      " [  0   0   0  66  86  32   0   6  14   6]\n",
      " [  0   0   2   1   5  25   0   0 108  41]\n",
      " [  0  54  14   4   2   6   1  97   3  22]\n",
      " [ 18   0   0  82   0  69   0   0  16   0]\n",
      " [  0  74   1   8   1  46   0   0  59   0]\n",
      " [  6  24  70  86   3   0   0   0  30   1]\n",
      " [  9   0   0  12   0  86  32   0  75   0]\n",
      " [  0  16  16   1  90   6   1   2  12  61]\n",
      " [  8   2   1  68   0 105   0   0   4   5]]\n"
     ]
    },
    {
     "data": {
      "text/plain": [
       "<Figure size 432x288 with 0 Axes>"
      ]
     },
     "metadata": {},
     "output_type": "display_data"
    }
   ],
   "source": [
    "model_estimation(clf, tsne_test, y_test)"
   ]
  },
  {
   "cell_type": "code",
   "execution_count": null,
   "metadata": {},
   "outputs": [],
   "source": [
    "plt.figure(figsize=(10,10))\n",
    "#決定境界をプロット\n",
    "plot_decision_regions(tsne_train, y_train, clf)"
   ]
  }
 ],
 "metadata": {
  "kernelspec": {
   "display_name": "Python 3",
   "language": "python",
   "name": "python3"
  },
  "language_info": {
   "codemirror_mode": {
    "name": "ipython",
    "version": 3
   },
   "file_extension": ".py",
   "mimetype": "text/x-python",
   "name": "python",
   "nbconvert_exporter": "python",
   "pygments_lexer": "ipython3",
   "version": "3.7.0"
  }
 },
 "nbformat": 4,
 "nbformat_minor": 2
}
