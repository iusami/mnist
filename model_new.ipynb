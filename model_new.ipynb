{
 "cells": [
  {
   "cell_type": "code",
   "execution_count": 3,
   "metadata": {},
   "outputs": [
    {
     "name": "stderr",
     "output_type": "stream",
     "text": [
      "C:\\Users\\ippei\\Anaconda3\\lib\\site-packages\\sklearn\\utils\\validation.py:475: DataConversionWarning: Data with input dtype int64 was converted to float64 by MinMaxScaler.\n",
      "  warnings.warn(msg, DataConversionWarning)\n"
     ]
    }
   ],
   "source": [
    "from sklearn import svm, metrics\n",
    "from sklearn.model_selection import train_test_split, GridSearchCV\n",
    "from sklearn.pipeline import Pipeline\n",
    "from sklearn.preprocessing import MinMaxScaler\n",
    "from sklearn.decomposition import PCA\n",
    "import numpy as np\n",
    "import pandas as pd\n",
    "import matplotlib.pyplot as plt\n",
    "%matplotlib inline\n",
    "\n",
    "CV_flag = False\n",
    "DATAPATH = \"data/digits.csv\"\n",
    "df = pd.read_csv(DATAPATH)\n",
    "X = df.drop(\"label\",axis=1).values\n",
    "scaler = MinMaxScaler()\n",
    "scaler.fit(X)\n",
    "X_std = scaler.transform(X)\n",
    "y = df[\"label\"].values\n",
    "labels = df[\"label\"] \n",
    "X_train,X_test,y_train,y_test = train_test_split(X_std,y,test_size=0.2)\n",
    "pipe = Pipeline([(\"scalar\", MinMaxScaler()),(\"svm\",svm.SVC(C= 1000, degree= 2, \n",
    "                                                           gamma = 0.001, kernel = 'poly'))])\n",
    "pipe_grid = Pipeline([(\"scalar\", MinMaxScaler()),(\"svm\",svm.SVC())])    "
   ]
  },
  {
   "cell_type": "code",
   "execution_count": 4,
   "metadata": {},
   "outputs": [
    {
     "name": "stdout",
     "output_type": "stream",
     "text": [
      "100\n",
      "0.9157450510401489\n",
      "110\n",
      "0.9246268750913108\n",
      "120\n",
      "0.9321356645347364\n",
      "130\n",
      "0.9385845752358093\n",
      "140\n",
      "0.9442397683181201\n",
      "150\n",
      "0.9492037053567488\n",
      "0.9501120303233959\n"
     ]
    }
   ],
   "source": [
    "E_list = np.zeros(784)\n",
    "cumsum_explained = np.zeros(784)\n",
    "for i in range(100,784):\n",
    "    pca = PCA(n_components = i)  # 主成分分析オブジェクトの作成\n",
    "    pca.fit(X_train)                       # 主成分分析の実行\n",
    "    transformed = pca.transform(X_train)   # データに対して削減後のベクトルを生成\n",
    "    E = pca.explained_variance_ratio_        # 寄与率\n",
    "    cumsum_explained[i] = np.cumsum(E)[::-1][0]\n",
    "    if cumsum_explained[i] > 0.95:\n",
    "        break\n",
    "    if i%10 == 0:\n",
    "        print(i)\n",
    "        print(cumsum_explained[i])\n",
    "print(cumsum_explained[i])"
   ]
  },
  {
   "cell_type": "code",
   "execution_count": 5,
   "metadata": {},
   "outputs": [
    {
     "name": "stdout",
     "output_type": "stream",
     "text": [
      "Fitting 3 folds for each of 44 candidates, totalling 132 fits\n"
     ]
    },
    {
     "name": "stderr",
     "output_type": "stream",
     "text": [
      "[Parallel(n_jobs=3)]: Done  35 tasks      | elapsed:  4.2min\n",
      "[Parallel(n_jobs=3)]: Done 132 out of 132 | elapsed: 25.2min finished\n"
     ]
    },
    {
     "name": "stdout",
     "output_type": "stream",
     "text": [
      "Best cv accuracy:0.91\n",
      "Test set score: 0.92\n",
      "Best parameters:{'svm__C': 1, 'svm__kernel': 'linear'}\n"
     ]
    }
   ],
   "source": [
    "CV_flag=True\n",
    "X_train_pca = pca.transform(X_train)\n",
    "X_test_pca = pca.transform(X_test)\n",
    "if CV_flag == True:\n",
    "    parameters = [\n",
    "                {'svm__C': [1, 10, 100, 1000], 'svm__kernel': ['linear']},\n",
    "                {'svm__C': [1, 10, 100, 1000], 'svm__kernel': ['rbf'], 'svm__gamma': [0.001, 0.0001]},\n",
    "                {'svm__C': [1, 10, 100, 1000], 'svm__kernel': ['poly'], 'svm__degree': [2, 3, 4], 'svm__gamma': [0.001, 0.0001]},\n",
    "                {'svm__C': [1, 10, 100, 1000], 'svm__kernel': ['sigmoid'], 'svm__gamma': [0.001, 0.0001]}]\n",
    "    clf = GridSearchCV(pipe_grid, param_grid=parameters,verbose=2,n_jobs=3)\n",
    "    clf.fit(X_train_pca,y_train)\n",
    "    print(\"Best cv accuracy:{:.2f}\".format(clf.best_score_))\n",
    "    print(\"Test set score: {:.2f}\".format(clf.score(X_test_pca,y_test)))\n",
    "    print(\"Best parameters:{}\".format(clf.best_params_))\n",
    "else:\n",
    "    clf = pipe.fit(X_train,y_train)"
   ]
  },
  {
   "cell_type": "code",
   "execution_count": 7,
   "metadata": {},
   "outputs": [
    {
     "name": "stdout",
     "output_type": "stream",
     "text": [
      "0.9215\n",
      "             precision    recall  f1-score   support\n",
      "\n",
      "          0       0.93      0.95      0.94       196\n",
      "          1       0.99      0.96      0.98       225\n",
      "          2       0.91      0.90      0.91       207\n",
      "          3       0.91      0.92      0.92       203\n",
      "          4       0.91      0.93      0.92       203\n",
      "          5       0.90      0.88      0.89       188\n",
      "          6       0.95      0.95      0.95       203\n",
      "          7       0.95      0.90      0.92       205\n",
      "          8       0.88      0.88      0.88       187\n",
      "          9       0.88      0.93      0.90       183\n",
      "\n",
      "avg / total       0.92      0.92      0.92      2000\n",
      "\n",
      "[[187   0   1   0   0   2   3   0   3   0]\n",
      " [  0 217   2   2   0   0   0   0   3   1]\n",
      " [  3   0 187   1   3   2   1   2   6   2]\n",
      " [  4   0   5 187   0   3   0   1   3   0]\n",
      " [  1   0   1   0 188   0   1   1   0  11]\n",
      " [  2   0   1  10   1 166   2   1   3   2]\n",
      " [  2   0   0   0   4   4 193   0   0   0]\n",
      " [  1   0   6   0   5   1   0 184   2   6]\n",
      " [  0   3   3   4   1   7   3   0 164   2]\n",
      " [  1   0   0   1   4   0   0   4   3 170]]\n"
     ]
    }
   ],
   "source": [
    "y_pred = clf.predict(X_test_pca)\n",
    "print(clf.score(X_test_pca,y_test))\n",
    "print(metrics.classification_report(y_test, y_pred, \n",
    "                                    target_names=[\"0\",\"1\",\"2\",\"3\",\"4\",\"5\",\"6\",\"7\",\"8\",\"9\"]))\n",
    "print(metrics.confusion_matrix(y_test, y_pred, labels=range(10)))"
   ]
  },
  {
   "cell_type": "code",
   "execution_count": 8,
   "metadata": {},
   "outputs": [
    {
     "name": "stdout",
     "output_type": "stream",
     "text": [
      "[[94, 6], [231, 2], [331, 4], [340, 3], [401, 9], [431, 1], [627, 5], [666, 5], [667, 3], [761, 1], [808, 3], [853, 5], [1313, 6], [1342, 5], [1709, 9], [1724, 5], [1772, 1], [1847, 2], [1851, 2], [1870, 5], [1879, 3], [1880, 6], [1984, 5]]\n"
     ]
    }
   ],
   "source": [
    "wrong_prediction = []\n",
    "for counter,i in enumerate(y_test):\n",
    "    if y_test[counter] == 8:\n",
    "        if y_pred[counter]!=i:\n",
    "            keep_list = [counter,y_pred[counter]]\n",
    "            wrong_prediction.append(keep_list)\n",
    "print(wrong_prediction)"
   ]
  },
  {
   "cell_type": "code",
   "execution_count": 9,
   "metadata": {},
   "outputs": [
    {
     "data": {
      "image/png": "[encoded data removed]",
      "text/plain": [
       "<Figure size 1080x864 with 15 Axes>"
      ]
     },
     "metadata": {},
     "output_type": "display_data"
    }
   ],
   "source": [
    "image_shape = [28,28]\n",
    "fix, axes = plt.subplots(3,5,figsize=(15,12),\n",
    "                        subplot_kw={\"xticks\":(),\"yticks\":()})\n",
    "for i,ax in zip(wrong_prediction,axes.ravel()):\n",
    "    ax.imshow(X_test[i[0]].reshape(image_shape))\n",
    "    ax.set_title(\"pred:{}\".format(i[1]))"
   ]
  },
  {
   "cell_type": "code",
   "execution_count": 10,
   "metadata": {},
   "outputs": [
    {
     "data": {
      "text/plain": [
       "'\\nnmf = NMF(n_components=15,random_state=0)\\nnmf.fit(X_train)\\nX_train_nmf = nmf.transform(X_train)\\nX_test_nmf = nmf.transform(X_test)\\n\\nfix, axes = plt.subplots(3,5,figsize=(15,12),\\n                        subplot_kw={\"xticks\":(),\"yticks\":()})\\nfor i,ax in zip(wrong_prediction_2,axes.ravel()):\\n    ax.imshow(X_test_nmf[i[0]].reshape(image_shape))\\n    ax.set_title(\"pred:{}\".format(i[1]))\\n'"
      ]
     },
     "execution_count": 10,
     "metadata": {},
     "output_type": "execute_result"
    }
   ],
   "source": [
    "\"\"\"\n",
    "nmf = NMF(n_components=15,random_state=0)\n",
    "nmf.fit(X_train)\n",
    "X_train_nmf = nmf.transform(X_train)\n",
    "X_test_nmf = nmf.transform(X_test)\n",
    "\n",
    "fix, axes = plt.subplots(3,5,figsize=(15,12),\n",
    "                        subplot_kw={\"xticks\":(),\"yticks\":()})\n",
    "for i,ax in zip(wrong_prediction_2,axes.ravel()):\n",
    "    ax.imshow(X_test_nmf[i[0]].reshape(image_shape))\n",
    "    ax.set_title(\"pred:{}\".format(i[1]))\n",
    "\"\"\""
   ]
  },
  {
   "cell_type": "code",
   "execution_count": 11,
   "metadata": {},
   "outputs": [
    {
     "name": "stdout",
     "output_type": "stream",
     "text": [
      "Fitting 3 folds for each of 44 candidates, totalling 132 fits\n"
     ]
    },
    {
     "name": "stderr",
     "output_type": "stream",
     "text": [
      "[Parallel(n_jobs=3)]: Done  35 tasks      | elapsed: 10.6min\n",
      "[Parallel(n_jobs=3)]: Done 132 out of 132 | elapsed: 77.9min finished\n"
     ]
    },
    {
     "name": "stdout",
     "output_type": "stream",
     "text": [
      "Best cv accuracy:0.95\n",
      "Test set score: 0.96\n",
      "Best parameters:{'svm__C': 1000, 'svm__degree': 2, 'svm__gamma': 0.001, 'svm__kernel': 'poly'}\n"
     ]
    }
   ],
   "source": [
    "if CV_flag == True:\n",
    "    parameters = [\n",
    "                {'svm__C': [1, 10, 100, 1000], 'svm__kernel': ['linear']},\n",
    "                {'svm__C': [1, 10, 100, 1000], 'svm__kernel': ['rbf'], 'svm__gamma': [0.001, 0.0001]},\n",
    "                {'svm__C': [1, 10, 100, 1000], 'svm__kernel': ['poly'], 'svm__degree': [2, 3, 4], 'svm__gamma': [0.001, 0.0001]},\n",
    "                {'svm__C': [1, 10, 100, 1000], 'svm__kernel': ['sigmoid'], 'svm__gamma': [0.001, 0.0001]}]\n",
    "    clf = GridSearchCV(pipe_grid, param_grid=parameters,verbose=2,n_jobs=3)\n",
    "    clf.fit(X_train,y_train)\n",
    "    print(\"Best cv accuracy:{:.2f}\".format(clf.best_score_))\n",
    "    print(\"Test set score: {:.2f}\".format(clf.score(X_test,y_test)))\n",
    "    print(\"Best parameters:{}\".format(clf.best_params_))\n",
    "else:\n",
    "    clf = pipe.fit(X_train,y_train)"
   ]
  },
  {
   "cell_type": "code",
   "execution_count": 12,
   "metadata": {},
   "outputs": [
    {
     "name": "stderr",
     "output_type": "stream",
     "text": [
      "C:\\Users\\ippei\\Anaconda3\\lib\\site-packages\\sklearn\\ensemble\\weight_boosting.py:29: DeprecationWarning: numpy.core.umath_tests is an internal NumPy module and should not be imported. It will be removed in a future NumPy release.\n",
      "  from numpy.core.umath_tests import inner1d\n"
     ]
    },
    {
     "data": {
      "text/plain": [
       "Pipeline(memory=None,\n",
       "     steps=[('scalar', MinMaxScaler(copy=True, feature_range=(0, 1))), ('select', SelectFromModel(estimator=RandomForestClassifier(bootstrap=True, class_weight=None, criterion='gini',\n",
       "            max_depth=None, max_features='auto', max_leaf_nodes=None,\n",
       "            min_impurity_decrease=0.0, min_impurity...om_state=42, verbose=0, warm_start=False),\n",
       "        norm_order=1, prefit=False, threshold='median'))])"
      ]
     },
     "execution_count": 12,
     "metadata": {},
     "output_type": "execute_result"
    }
   ],
   "source": [
    "from sklearn.feature_selection import SelectFromModel\n",
    "from sklearn.ensemble import RandomForestClassifier as RFC\n",
    "from sklearn.feature_selection import RFE\n",
    "selecter_pipe = Pipeline([(\"scalar\", MinMaxScaler()),\n",
    "                         (\"select\",SelectFromModel(RFC(n_estimators=100,random_state=42),\n",
    "                                                   threshold=\"median\"))])\n",
    "#selecter_pipe = Pipeline([(\"scalar\", MinMaxScaler()),\n",
    "#                         (\"select\",RFE(RFC(n_estimators=100,random_state=42),\n",
    "#                                                   n_features_to_select=740,verbose=2))])\n",
    "\n",
    "selecter_pipe.fit(X_train,y_train)"
   ]
  },
  {
   "cell_type": "code",
   "execution_count": 13,
   "metadata": {},
   "outputs": [
    {
     "name": "stdout",
     "output_type": "stream",
     "text": [
      "(8000, 784)\n",
      "(8000, 392)\n"
     ]
    }
   ],
   "source": [
    "X_train_l1 = selecter_pipe.transform(X_train)\n",
    "print(X_train.shape)\n",
    "print(X_train_l1.shape)"
   ]
  },
  {
   "cell_type": "code",
   "execution_count": 14,
   "metadata": {},
   "outputs": [
    {
     "name": "stdout",
     "output_type": "stream",
     "text": [
      "0.9565\n"
     ]
    }
   ],
   "source": [
    "X_test_l1 = selecter_pipe.transform(X_test)\n",
    "clf_l1 = svm.SVC(C= 1000, degree= 2, \n",
    "                gamma = 0.001, kernel = 'poly').fit(X_train_l1,y_train)\n",
    "score = clf_l1.score(X_test_l1,y_test)\n",
    "print(score)"
   ]
  },
  {
   "cell_type": "code",
   "execution_count": 15,
   "metadata": {},
   "outputs": [
    {
     "name": "stdout",
     "output_type": "stream",
     "text": [
      "             precision    recall  f1-score   support\n",
      "\n",
      "          0       0.97      0.98      0.98       196\n",
      "          1       0.98      0.97      0.98       225\n",
      "          2       0.93      0.94      0.93       207\n",
      "          3       0.97      0.97      0.97       203\n",
      "          4       0.94      0.97      0.95       203\n",
      "          5       0.98      0.96      0.97       188\n",
      "          6       0.96      1.00      0.98       203\n",
      "          7       0.97      0.90      0.94       205\n",
      "          8       0.96      0.94      0.95       187\n",
      "          9       0.91      0.95      0.93       183\n",
      "\n",
      "avg / total       0.96      0.96      0.96      2000\n",
      "\n",
      "[[193   0   0   1   0   1   1   0   0   0]\n",
      " [  0 218   2   1   0   0   0   1   2   1]\n",
      " [  1   1 194   1   4   0   1   2   2   1]\n",
      " [  1   0   3 197   0   1   0   0   0   1]\n",
      " [  1   0   0   0 196   0   0   0   0   6]\n",
      " [  0   0   0   2   0 180   3   0   1   2]\n",
      " [  0   0   0   0   1   0 202   0   0   0]\n",
      " [  1   1   6   0   3   1   1 185   1   6]\n",
      " [  0   1   4   1   1   1   3   0 175   1]\n",
      " [  1   1   0   1   3   0   0   2   2 173]]\n"
     ]
    }
   ],
   "source": [
    "y_pred = clf_l1.predict(X_test_l1)\n",
    "print(metrics.classification_report(y_test, y_pred, \n",
    "                                    target_names=[\"0\",\"1\",\"2\",\"3\",\"4\",\"5\",\"6\",\"7\",\"8\",\"9\"]))\n",
    "print(metrics.confusion_matrix(y_test, y_pred, labels=range(10)))"
   ]
  },
  {
   "cell_type": "code",
   "execution_count": 16,
   "metadata": {},
   "outputs": [
    {
     "name": "stdout",
     "output_type": "stream",
     "text": [
      "[[166, 0], [302, 4], [343, 4], [747, 7], [975, 6], [1153, 3], [1284, 9], [1306, 7], [1354, 4], [1361, 8], [1621, 1], [1743, 8], [1915, 4]]\n"
     ]
    }
   ],
   "source": [
    "wrong_prediction_2_l1 = []\n",
    "for counter,i in enumerate(y_test):\n",
    "    if y_test[counter] == 2:\n",
    "        if y_pred[counter]!=i:\n",
    "            keep_list = [counter,y_pred[counter]]\n",
    "            wrong_prediction_2_l1.append(keep_list)\n",
    "print(wrong_prediction_2_l1)"
   ]
  },
  {
   "cell_type": "code",
   "execution_count": null,
   "metadata": {},
   "outputs": [],
   "source": []
  }
 ],
 "metadata": {
  "kernelspec": {
   "display_name": "Python 3",
   "language": "python",
   "name": "python3"
  },
  "language_info": {
   "codemirror_mode": {
    "name": "ipython",
    "version": 3
   },
   "file_extension": ".py",
   "mimetype": "text/x-python",
   "name": "python",
   "nbconvert_exporter": "python",
   "pygments_lexer": "ipython3",
   "version": "3.7.0"
  }
 },
 "nbformat": 4,
 "nbformat_minor": 2
}
