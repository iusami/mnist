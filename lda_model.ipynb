{
 "cells": [
  {
   "cell_type": "code",
   "execution_count": 2,
   "metadata": {},
   "outputs": [
    {
     "name": "stderr",
     "output_type": "stream",
     "text": [
      "C:\\Users\\usami\\Anaconda3\\lib\\site-packages\\sklearn\\utils\\validation.py:475: DataConversionWarning: Data with input dtype int64 was converted to float64 by StandardScaler.\n",
      "  warnings.warn(msg, DataConversionWarning)\n"
     ]
    }
   ],
   "source": [
    "from sklearn import svm, metrics\n",
    "from sklearn.model_selection import train_test_split, GridSearchCV\n",
    "from sklearn.pipeline import Pipeline\n",
    "from sklearn.preprocessing import MinMaxScaler,StandardScaler\n",
    "from sklearn.discriminant_analysis import LinearDiscriminantAnalysis as LDA\n",
    "import numpy as np\n",
    "import pandas as pd\n",
    "import matplotlib.pyplot as plt\n",
    "%matplotlib inline\n",
    "\n",
    "CV_flag = False\n",
    "DATAPATH = \"data/digits.csv\"\n",
    "df = pd.read_csv(DATAPATH)\n",
    "X = df.drop(\"label\",axis=1).values\n",
    "scaler = StandardScaler()\n",
    "scaler.fit(X)\n",
    "X_std = scaler.transform(X)\n",
    "y = df[\"label\"].values\n",
    "labels = df[\"label\"] \n",
    "X_train,X_test,y_train,y_test = train_test_split(X_std,y,test_size=0.2)"
   ]
  },
  {
   "cell_type": "code",
   "execution_count": 3,
   "metadata": {},
   "outputs": [
    {
     "name": "stderr",
     "output_type": "stream",
     "text": [
      "C:\\Users\\usami\\Anaconda3\\lib\\site-packages\\sklearn\\discriminant_analysis.py:388: UserWarning: Variables are collinear.\n",
      "  warnings.warn(\"Variables are collinear.\")\n"
     ]
    }
   ],
   "source": [
    "lda = LDA(n_components=2)\n",
    "X_train_lda = lda.fit_transform(X_train,y_train)\n",
    "X_test_lda = lda.transform(X_test)"
   ]
  },
  {
   "cell_type": "code",
   "execution_count": 5,
   "metadata": {},
   "outputs": [
    {
     "name": "stdout",
     "output_type": "stream",
     "text": [
      "0.5455\n",
      "             precision    recall  f1-score   support\n",
      "\n",
      "          0       0.80      0.71      0.75       194\n",
      "          1       0.86      0.93      0.90       239\n",
      "          2       0.59      0.53      0.56       202\n",
      "          3       0.38      0.41      0.39       202\n",
      "          4       0.48      0.65      0.55       170\n",
      "          5       0.43      0.39      0.41       170\n",
      "          6       0.49      0.53      0.51       199\n",
      "          7       0.53      0.53      0.53       230\n",
      "          8       0.37      0.35      0.36       202\n",
      "          9       0.44      0.33      0.38       192\n",
      "\n",
      "avg / total       0.55      0.55      0.54      2000\n",
      "\n",
      "[[138   0   4   1   0   3  46   0   2   0]\n",
      " [  0 223   1   7   1   1   0   2   4   0]\n",
      " [  2   9 108  47   0   4   4   5  23   0]\n",
      " [  0   9  41  83   1   8   7  12  36   5]\n",
      " [  0   0   0   0 110   8   0  23   3  26]\n",
      " [  2   0   8   9   8  67  45   2  29   0]\n",
      " [ 30   1   9  14   0  29 106   1   9   0]\n",
      " [  1   5   2   2  34   2   0 122  14  48]\n",
      " [  0  11   9  56  12  31   8   3  71   1]\n",
      " [  0   0   0   1  62   2   0  62   2  63]]\n"
     ]
    }
   ],
   "source": [
    "clf = svm.SVC()\n",
    "clf.fit(X_train_lda,y_train)\n",
    "y_pred = clf.predict(X_test_lda)\n",
    "print(clf.score(X_test_lda,y_test))\n",
    "print(metrics.classification_report(y_test, y_pred, \n",
    "                                    target_names=[\"0\",\"1\",\"2\",\"3\",\"4\",\"5\",\"6\",\"7\",\"8\",\"9\"]))\n",
    "print(metrics.confusion_matrix(y_test, y_pred, labels=range(10)))"
   ]
  },
  {
   "cell_type": "code",
   "execution_count": 15,
   "metadata": {},
   "outputs": [],
   "source": [
    "from matplotlib.colors import ListedColormap\n",
    "def plot_decision_regions(X, y, classifier, resolution=0.02):\n",
    "\n",
    "    # setup marker generator and color map\n",
    "    colors = (\"red\",\"blue\",\"orange\",\"cyan\",\"green\",\n",
    "          \"gray\", \"pink\",\"yellow\",\"brown\",\"black\")\n",
    "    cmap = ListedColormap(colors[:len(np.unique(y))])\n",
    "\n",
    "    # plot the decision surface\n",
    "    x1_min, x1_max = X[:, 0].min() - 1, X[:, 0].max() + 1\n",
    "    x2_min, x2_max = X[:, 1].min() - 1, X[:, 1].max() + 1\n",
    "    xx1, xx2 = np.meshgrid(np.arange(x1_min, x1_max, resolution),\n",
    "                         np.arange(x2_min, x2_max, resolution))\n",
    "    Z = classifier.predict(np.array([xx1.ravel(), xx2.ravel()]).T)\n",
    "    Z = Z.reshape(xx1.shape)\n",
    "    plt.contourf(xx1, xx2, Z, alpha=0.4, cmap=cmap)\n",
    "    plt.xlim(xx1.min(), xx1.max())\n",
    "    plt.ylim(xx2.min(), xx2.max())\n",
    "\n",
    "    # plot class samples\n",
    "    #for idx, cl in enumerate(np.unique(y)):\n",
    "    #    plt.scatter(x=X[y == cl, 0], y=X[y == cl, 1],\n",
    "    #                alpha=0.8, c=cmap(idx),\n",
    "    #                 label=cl)"
   ]
  },
  {
   "cell_type": "code",
   "execution_count": 16,
   "metadata": {},
   "outputs": [
    {
     "name": "stderr",
     "output_type": "stream",
     "text": [
      "No handles with labels found to put in legend.\n"
     ]
    },
    {
     "data": {
      "image/png": "[encoded data removed]",
      "text/plain": [
       "<Figure size 432x288 with 1 Axes>"
      ]
     },
     "metadata": {
      "needs_background": "light"
     },
     "output_type": "display_data"
    }
   ],
   "source": [
    "plot_decision_regions(X_train_lda, y_train, classifier=clf)\n",
    "plt.xlabel('LD 1')\n",
    "plt.ylabel('LD 2')\n",
    "plt.legend(loc='lower left')\n",
    "plt.tight_layout()\n",
    "plt.show()"
   ]
  },
  {
   "cell_type": "code",
   "execution_count": null,
   "metadata": {},
   "outputs": [],
   "source": []
  }
 ],
 "metadata": {
  "kernelspec": {
   "display_name": "Python 3",
   "language": "python",
   "name": "python3"
  },
  "language_info": {
   "codemirror_mode": {
    "name": "ipython",
    "version": 3
   },
   "file_extension": ".py",
   "mimetype": "text/x-python",
   "name": "python",
   "nbconvert_exporter": "python",
   "pygments_lexer": "ipython3",
   "version": "3.7.0"
  }
 },
 "nbformat": 4,
 "nbformat_minor": 2
}
