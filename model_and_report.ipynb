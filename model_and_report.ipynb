{
 "cells": [
  {
   "cell_type": "markdown",
   "metadata": {},
   "source": [
    "# PCAによる次元削減とSVMを用いたMNISTの分類\n",
    "\n",
    "## はじめに\n",
    "      MNISTという数字手書き文字のデータセットがある。このデータは28×28ピクセルの手書き数字の画像に対して、0から9までのラベルが振られたデータである。\n",
    "      このレポートでは、10000枚の手書き数字の画像がそれぞれ0から9までのどの数字にあたるかを識別する、SVMを用いたモデルの生成、および生成モデルを用いた推論を実装する。また、性能向上のために用いた交差検証、グリッドサーチ、およびPCA(主成分分析)による次元削減についても記載する。\n",
    "    \n",
    "## レポートの構成について\n",
    "      実行したコードの記載されたセルの次のセルにコードの内容、使用した手法などの説明を記載する形になっている。"
   ]
  },
  {
   "cell_type": "code",
   "execution_count": 1,
   "metadata": {},
   "outputs": [],
   "source": [
    "from operator import itemgetter\n",
    "from sklearn import svm, metrics\n",
    "from sklearn.model_selection import train_test_split, cross_val_score, GridSearchCV\n",
    "from sklearn.decomposition import PCA\n",
    "import numpy as np\n",
    "import pandas as pd\n",
    "import matplotlib.pyplot as plt\n",
    "%matplotlib inline\n",
    "DATAPATH = \"data/digits.csv\"\n",
    "image_shape=(28,28)\n",
    "df = pd.read_csv(DATAPATH)\n",
    "y = df[\"label\"].values\n",
    "X = df.drop(\"label\",axis=1).values/255\n",
    "X_train,X_test,y_train,y_test = train_test_split(X,y,test_size=0.2,random_state = 0)"
   ]
  },
  {
   "cell_type": "markdown",
   "metadata": {},
   "source": [
    "## データセットの用意\n",
    "      ここでcsvからデータをロードし、画像データ、ラベルデータをそれぞれトレイン用のデータ、テスト用のデータに分割する。トレイン用のデータとテスト用のデータを分けることにより、生成したモデルの性能評価を行うことができる。\n",
    "      また、ここではデータ分割にtrain_test_splitというランダムにトレインデータとテストデータを分割する関数を使用しているが、random_stateパラメータを任意に設定することで毎回同じ出力が発生するようにしてある。また、ロードしたターゲットデータは最大値の255割ってスケールしている。こうすることで学習時のパラメータ更新がパラメータごとに偏ることがなくなり、最適解を見つけるまでのステップが少なくなるというメリットがある。この処理を前処理という。"
   ]
  },
  {
   "cell_type": "code",
   "execution_count": 2,
   "metadata": {},
   "outputs": [
    {
     "name": "stdout",
     "output_type": "stream",
     "text": [
      "43\n",
      "0.8013124141578981\n"
     ]
    }
   ],
   "source": [
    "pca = PCA(0.8)\n",
    "pca.fit(X_train)\n",
    "X_train_pca = pca.transform(X_train)\n",
    "X_test_pca = pca.transform(X_test)\n",
    "print(pca.n_components_)\n",
    "print(np.sum(pca.explained_variance_ratio_))"
   ]
  },
  {
   "cell_type": "markdown",
   "metadata": {},
   "source": [
    "## PCAによる次元削減\n",
    "      ここでPCAによる次元削減を行う。PCAとは主成分を計算し、n次元のデータの内あるm(<<n)個の主成分でデータ全体の何%を説明できるかを分析することである。例えばここではオリジナルの画像データの分散の80%を説明できる主成分がいくつ必要かを求めている。結果、43個の変数でオリジナルの画像データの分散の80%が説明できることがわかる。次元削減を行うことで、過学習の抑制や計算時間の短縮が期待できる。"
   ]
  },
  {
   "cell_type": "code",
   "execution_count": 3,
   "metadata": {},
   "outputs": [
    {
     "data": {
      "image/png": "[encoded data removed]",
      "text/plain": [
       "<Figure size 1080x864 with 5 Axes>"
      ]
     },
     "metadata": {},
     "output_type": "display_data"
    },
    {
     "data": {
      "image/png": "[encoded data removed]",
      "text/plain": [
       "<Figure size 1080x864 with 5 Axes>"
      ]
     },
     "metadata": {},
     "output_type": "display_data"
    }
   ],
   "source": [
    "X_train_low = pca.inverse_transform(X_train_pca)\n",
    "X_test_low = pca.inverse_transform(X_test_pca)\n",
    "image_shape = [28,28]\n",
    "fix, axes1 = plt.subplots(1,5,figsize=(15,12),\n",
    "                        subplot_kw={\"xticks\":(),\"yticks\":()})\n",
    "fix2, axes2 = plt.subplots(1,5,figsize=(15,12),\n",
    "                        subplot_kw={\"xticks\":(),\"yticks\":()})\n",
    "\n",
    "for i,ax in zip(range(5),axes1.ravel()):\n",
    "    ax.imshow((X_train[i]*255).reshape(image_shape),cmap=plt.cm.gray)\n",
    "    ax.set_title(\"number:{}\".format(y_train[i]))\n",
    "for i,ax in zip(range(5),axes2.ravel()):\n",
    "    ax.imshow((X_train_low[i]*255).reshape(image_shape),cmap=plt.cm.gray)\n",
    "    ax.set_title(\"number:{}\".format(y_train[i]))\n"
   ]
  },
  {
   "cell_type": "markdown",
   "metadata": {},
   "source": [
    "## 次元削減後のデータの可視化\n",
    "    ここで次元削減前の画像データと次元削減後の画像データを書き出して比較してみる。上段がオリジナルのデータ、下段が各データを次元削減したのち復元したデータである。これを見ると、おおよそ元の特徴を保持しているように見える。"
   ]
  },
  {
   "cell_type": "code",
   "execution_count": 4,
   "metadata": {},
   "outputs": [
    {
     "name": "stdout",
     "output_type": "stream",
     "text": [
      "Fitting 2 folds for each of 44 candidates, totalling 88 fits\n"
     ]
    },
    {
     "name": "stderr",
     "output_type": "stream",
     "text": [
      "[Parallel(n_jobs=-1)]: Done  33 tasks      | elapsed:  9.8min\n",
      "[Parallel(n_jobs=-1)]: Done  88 out of  88 | elapsed: 28.0min finished\n"
     ]
    },
    {
     "name": "stdout",
     "output_type": "stream",
     "text": [
      "0.959\n"
     ]
    }
   ],
   "source": [
    "parameters = [\n",
    "    {'C': [1, 10, 100, 1000], 'kernel': ['linear']},\n",
    "    {'C': [1, 10, 100, 1000], 'kernel': ['rbf'], 'gamma': [0.001, 0.0001]},\n",
    "    {'C': [1, 10, 100, 1000], 'kernel': ['poly'], 'degree': [2, 3, 4], 'gamma': [0.001, 0.0001]},\n",
    "    {'C': [1, 10, 100, 1000], 'kernel': ['sigmoid'], 'gamma': [0.001, 0.0001]}\n",
    "    ]\n",
    "clf = svm.SVC(parameters)\n",
    "clf = GridSearchCV(clf, parameters, verbose=2,n_jobs=-1,cv=2,return_train_score=True)\n",
    "clf.fit(X_train,y_train)\n",
    "print(clf.score(X_test,y_test))"
   ]
  },
  {
   "cell_type": "code",
   "execution_count": 5,
   "metadata": {},
   "outputs": [
    {
     "name": "stdout",
     "output_type": "stream",
     "text": [
      "Fitting 2 folds for each of 44 candidates, totalling 88 fits\n"
     ]
    },
    {
     "name": "stderr",
     "output_type": "stream",
     "text": [
      "[Parallel(n_jobs=-1)]: Done  33 tasks      | elapsed:  1.1min\n",
      "[Parallel(n_jobs=-1)]: Done  88 out of  88 | elapsed:  2.3min finished\n"
     ]
    },
    {
     "name": "stdout",
     "output_type": "stream",
     "text": [
      "0.963\n"
     ]
    }
   ],
   "source": [
    "clf_pca = svm.SVC(parameters)\n",
    "clf_pca = GridSearchCV(clf_pca, parameters, verbose=2,n_jobs=-1,cv=2,return_train_score=True)\n",
    "clf_pca.fit(X_train_pca,y_train)\n",
    "print(clf_pca.score(X_test_pca,y_test))"
   ]
  },
  {
   "cell_type": "code",
   "execution_count": 6,
   "metadata": {},
   "outputs": [
    {
     "name": "stdout",
     "output_type": "stream",
     "text": [
      "Best estimator found by grid search:\n",
      "Best parameters:{'C': 1000, 'degree': 2, 'gamma': 0.001, 'kernel': 'poly'}\n",
      "Best parameters_pca:{'C': 1000, 'degree': 2, 'gamma': 0.001, 'kernel': 'poly'}\n"
     ]
    }
   ],
   "source": [
    "print(\"Best estimator found by grid search:\")\n",
    "print(\"Best parameters:{}\".format(clf.best_params_))\n",
    "print(\"Best parameters_pca:{}\".format(clf_pca.best_params_))"
   ]
  },
  {
   "cell_type": "markdown",
   "metadata": {},
   "source": [
    "## 交差検証を用いたグリッドサーチ\n",
    "      ここではサポートベクターマシンを分類モデルとして用いた上で、交差検証を用いたグリッドサーチを行っている。まずサポートベクターマシン、交差検証およびグリッドサーチについて説明する。\n",
    "### サポートベクターマシン\n",
    "      本レポートにおける分類モデルのアルゴリズムにはサポートベクターマシンを使用している。\n",
    "      サポートベクターマシンとは、線形識別機における重みベクトル、バイアスなどのパラメータ設定をマージン最大化の考えを以て定めるというものである。\n",
    "      マージンとはデータ分類の決定境界と、各クラスのデータ点の最短距離を指す。つまり、求める決定境界が各クラスのデータからなるべく離れたこところに設定するというのがマージン最大化の考え方である。"
   ]
  },
  {
   "cell_type": "markdown",
   "metadata": {},
   "source": [
    "<img src=\"./images/margin_img.png\">"
   ]
  },
  {
   "cell_type": "markdown",
   "metadata": {},
   "source": [
    "      例えば上図の左右の絵を比べてみると、右の絵の方が直線と各クラスの最短の点との距離が左の絵よりも長くなっている。この距離がマージンであり、このマージンを最大化するように境界を求めるというのがサポートベクターマシンの考え方である。"
   ]
  },
  {
   "cell_type": "markdown",
   "metadata": {},
   "source": [
    "### 交差検証\n",
    "      交差検証とは汎化性能を評価する統計的手法である。トレインデータとテストデータの分割を一度だけではなく複数行い、複数の分割方法でそれぞれモデルを訓練する。例えば一度の分割によってクラス分類が難しいデータばかりトレインデータになり、テストデータが簡単なデータばかりになってしまうと、異常に高い精度を得ることとなってしまう。\n",
    "      交差検証を行うことで、個々のサンプルがいずれかの分割に含まれている上に、全てのデータが一度だけテストに用いられているので、全てのデータが一度だけテストに用いられることになる。よって、モデルが全サンプルに対して高い汎化性能を持たなければ、交差検証スコアと平均を高くできない。逆に言うと、スコアと平均を見ることにより、訓練したモデルの汎化性能を評価できる。\n",
    "### グリッドサーチ\n",
    "      機械学習で用いられるモデルには様々なパラメータが設定されている。本レポートで使用するサポートベクターマシンにおいても、正則化項、カーネルの種類、カーネルの幅など様々に設定可能なパラメータを持つ。このパラメータを調整することによってモデルの性能を向上させることができる。\n",
    "      あらかじめ複数のパラメータを用意し、それら全ての組み合わせに対して訓練を行い、性能を確認する手法をグリッドサーチという。ScikitLearnにはGridsearchCVという交差検証を行いながらグリッドサーチを行う関数が用意されており、今回はこれを用いる。\n",
    "      ただしグリッドサーチには計算時間が増大するというデメリットもある。3×3のパラメータを用意し、かつ3分割交差検証を行うとすると、計27回の訓練を行わなくてはならない。\n",
    "    \n",
    "## グリッドサーチの実行\n",
    "### グリッドサーチの内容について\n",
    "    ここで設定したパラメータの組み合わせに対して交差検証を用いたグリッドサーチを行う。44のパラメータ組み合わせに対して2分割交差検証を行っているので、計88回の訓練が行われる。2分割交差検証は交差検証の分割数としては少なく、精度が低下する可能性があるが、グリッドサーチにおいては各パラメータの大小を比較するのが大目的なので大きな問題はない。\n",
    "### 実行結果\n",
    "    グリッドサーチの結果、オリジナルの画像データ、次元削減した画像データどちらの場合でも、与えたパラメータの中ではC=1000,kernel=\"poly\",degree=2,gamma=0.001の組み合わせが最もよく、テストデータに対して約96%の正答率を返した。しかし実行時間を比較すると、削減前の28分から2.3分まで減少しており、PCAによってモデルの分類精度を維持しつつ、計算コストを減少させることが可能であることを示す結果となった。"
   ]
  },
  {
   "cell_type": "code",
   "execution_count": 7,
   "metadata": {},
   "outputs": [
    {
     "name": "stderr",
     "output_type": "stream",
     "text": [
      "[Parallel(n_jobs=-1)]: Done   5 out of   5 | elapsed:   39.3s finished\n"
     ]
    },
    {
     "name": "stdout",
     "output_type": "stream",
     "text": [
      "Normal CV score: [0.96323988 0.95942572 0.95309568 0.95682103 0.95551378]\n",
      "PCA CV score: [0.96448598 0.96067416 0.95559725 0.95932416 0.95864662]\n"
     ]
    },
    {
     "name": "stderr",
     "output_type": "stream",
     "text": [
      "[Parallel(n_jobs=-1)]: Done   5 out of   5 | elapsed:    4.0s finished\n"
     ]
    }
   ],
   "source": [
    "clf_cv = svm.SVC(C=1000,degree=2,gamma=0.001,kernel=\"poly\")\n",
    "print(\"Normal CV score:\",cross_val_score(clf_cv,X_train,y_train,cv=5,verbose=2,n_jobs=-1))\n",
    "print(\"PCA CV score:\",cross_val_score(clf_cv,X_train_pca,y_train,cv=5,verbose=2,n_jobs=-1))"
   ]
  },
  {
   "cell_type": "markdown",
   "metadata": {},
   "source": [
    "## 実行結果の検証\n",
    "    交差検証を用いたグリッドサーチ2分割交差検証は分割数として少ないので、再度5分割交差検証を行って交差検証を行っている。こちらもおおよそ96%程度の正答率を返しており、高精度かつ汎化性能の高いモデルを構築できたと言える。"
   ]
  },
  {
   "cell_type": "code",
   "execution_count": 8,
   "metadata": {},
   "outputs": [
    {
     "name": "stdout",
     "output_type": "stream",
     "text": [
      "params             {'C': 1000, 'degree': 2, 'gamma': 0.001, 'kernel': 'poly'}\n",
      "mean_test_score                                                      0.952125\n",
      "Name: 30, dtype: object\n",
      "params             {'C': 1, 'degree': 2, 'gamma': 0.001, 'kernel': 'poly'}\n",
      "mean_test_score                                                    0.10925\n",
      "Name: 12, dtype: object\n"
     ]
    }
   ],
   "source": [
    "cv_result_df = pd.DataFrame(clf_pca.cv_results_)\n",
    "pd.set_option('display.max_colwidth',100)\n",
    "maxidx = cv_result_df[\"mean_test_score\"].idxmax()\n",
    "minidx = cv_result_df[\"mean_test_score\"].idxmin()\n",
    "print(cv_result_df.loc[maxidx,[\"params\",\"mean_test_score\"]])\n",
    "print(cv_result_df.loc[minidx,[\"params\",\"mean_test_score\"]])"
   ]
  },
  {
   "cell_type": "markdown",
   "metadata": {},
   "source": [
    "    また次元削減後の画像データを用いたモデルでのグリッドサーチを行った全てのパラメータの内、平均テストスコアが最大のものと最小のものを比較してみる。最大のスコアは0.95,最小は0.11となっており、パラメータ調整によって性能が大きく変化することが見て取れ、パラメータ調整の重要性、およびグリッドサーチの有用性を示す結果となった。"
   ]
  },
  {
   "cell_type": "code",
   "execution_count": 9,
   "metadata": {},
   "outputs": [
    {
     "name": "stdout",
     "output_type": "stream",
     "text": [
      "             precision    recall  f1-score   support\n",
      "\n",
      "          0       0.98      0.98      0.98       204\n",
      "          1       0.97      0.99      0.98       221\n",
      "          2       0.97      0.96      0.97       173\n",
      "          3       0.96      0.94      0.95       218\n",
      "          4       0.96      0.97      0.96       197\n",
      "          5       0.94      0.99      0.96       183\n",
      "          6       0.98      0.98      0.98       202\n",
      "          7       0.99      0.97      0.98       223\n",
      "          8       0.95      0.94      0.94       183\n",
      "          9       0.94      0.92      0.93       196\n",
      "\n",
      "avg / total       0.96      0.96      0.96      2000\n",
      "\n",
      "[[200   0   1   1   0   0   2   0   0   0]\n",
      " [  0 218   0   2   0   0   0   0   1   0]\n",
      " [  0   2 166   0   2   0   0   2   1   0]\n",
      " [  0   0   1 204   1   1   1   0   4   6]\n",
      " [  0   2   0   1 191   0   0   0   0   3]\n",
      " [  0   0   0   0   0 181   0   0   2   0]\n",
      " [  2   0   0   0   0   1 197   0   2   0]\n",
      " [  1   1   1   0   0   2   0 216   0   2]\n",
      " [  0   0   0   4   1   5   0   0 172   1]\n",
      " [  2   1   2   1   4   3   1   1   0 181]]\n"
     ]
    }
   ],
   "source": [
    "y_pred_pca = clf_pca.predict(X_test_pca)\n",
    "print(metrics.classification_report(y_test, y_pred_pca, \n",
    "                                    target_names=[\"0\",\"1\",\"2\",\"3\",\"4\",\"5\",\"6\",\"7\",\"8\",\"9\"]))\n",
    "print(metrics.confusion_matrix(y_test, y_pred_pca, labels=range(10)))"
   ]
  },
  {
   "cell_type": "markdown",
   "metadata": {},
   "source": [
    "## 結果考察\n",
    "### classification_reportと混同行列を用いたラベル毎の分類結果表示\n",
    "      次元削減後の画像データの分類結果について考察を行う。\n",
    "    まず上段の表はscikit-learnのclassification_reportによって出力されたものである。precisionは分類モデルが予測した結果が正解していた割合である。recallは画像データが持っていたラベルの内正解と予測された割合である。f1_scoreはprecisionとrecallの調和平均である。これより、9に対するスコアが最も低いことがわかる。  \n",
    "      下段の表は混同行列である。混同行列はラベルに画像データの与えられたラベルに対して、分類モデルによって推定されたラベルの結果がどう予測されたかを示すものである。例えば10行1列の2という値は、ラベル\"9\"の画像データに対して、\"0\"と予測されたデータが2つ存在しているということを示す。これを見ると、9は間違えられた場合、万遍なく他のラベルと予測されていることがわかる。また、9行目を見ると8が3に4回間違われ、3行目を見ると3が8にに4回間違われていることがわかる。そこで3と8の分類が困難であるのではないかと推測される。\n",
    "      以降では、9の分類精度が低いことと、3と8の分類の困難さに注目して結果を考察していく。"
   ]
  },
  {
   "cell_type": "code",
   "execution_count": 10,
   "metadata": {},
   "outputs": [],
   "source": [
    "def wrong_listup(target_num,pred_num,y_test,y_pred,same_num):\n",
    "    output_list=[]\n",
    "    for counter,i in enumerate(y_test):\n",
    "        if y_test[counter] == target_num:\n",
    "            if same_num:\n",
    "                if y_pred[counter] != pred_num:\n",
    "                    keep_list = [counter,y_pred[counter]]\n",
    "                    output_list.append(keep_list)\n",
    "            else :\n",
    "                if y_pred[counter] == pred_num:\n",
    "                    keep_list = [counter,y_pred[counter]]\n",
    "                    output_list.append(keep_list)\n",
    "    col_num = 1\n",
    "    output_list.sort(key=itemgetter(1))\n",
    "    return output_list\n",
    "wrong_prediction_9 = wrong_listup(9,9,y_test,y_pred_pca,True)\n",
    "wrong_prediction_8 = wrong_listup(8,3,y_test,y_pred_pca,False)\n",
    "wrong_prediction_3 = wrong_listup(3,8,y_test,y_pred_pca,False)"
   ]
  },
  {
   "cell_type": "markdown",
   "metadata": {},
   "source": [
    "### 分類を失敗したデータのリスト化\n",
    "      ここで分類に失敗したデータのリスト化を行う。ラベルが9の画像データの内9と分類されなかったもの、ラベルが8の画像データの内3と分類されたもの、ラベルが3の内8と分類されたもののそれぞれの画像データのインデックスのリストを作成する。"
   ]
  },
  {
   "cell_type": "code",
   "execution_count": 11,
   "metadata": {},
   "outputs": [
    {
     "data": {
      "image/png": "[encoded data removed]",
      "text/plain": [
       "<Figure size 1008x1008 with 15 Axes>"
      ]
     },
     "metadata": {},
     "output_type": "display_data"
    }
   ],
   "source": [
    "fix, axes = plt.subplots(1,len(wrong_prediction_9),figsize=(14,14),\n",
    "                        subplot_kw={\"xticks\":(),\"yticks\":()})\n",
    "for i,ax in zip(wrong_prediction_9,axes.ravel()):\n",
    "    ax.imshow(X_test_low[i[0]].reshape(image_shape),cmap=plt.cm.gray)\n",
    "    ax.set_title(\"pred:{}\".format(i[1]))  "
   ]
  },
  {
   "cell_type": "markdown",
   "metadata": {},
   "source": [
    "### ラベル9の分類失敗画像データの表示\n",
    "      ここでラベル9の画像データの内、分類を失敗した画像を表示している。画像上部の値はどの値に間違って分類されたかを示している。画像と間違った分類を見比べてみると、例えば0に分類されたものは0ににた様な一円のような形状をした9が描かれていたり、9の右上のあたりが分離して4のような形状になっている9は4に分類されているなど、他の数字の特徴に近い形状をしているものが誤分類されていることがわかる。"
   ]
  },
  {
   "cell_type": "code",
   "execution_count": 12,
   "metadata": {},
   "outputs": [
    {
     "data": {
      "image/png": "[encoded data removed]",
      "text/plain": [
       "<Figure size 720x720 with 4 Axes>"
      ]
     },
     "metadata": {},
     "output_type": "display_data"
    },
    {
     "data": {
      "image/png": "[encoded data removed]",
      "text/plain": [
       "<Figure size 720x720 with 4 Axes>"
      ]
     },
     "metadata": {},
     "output_type": "display_data"
    }
   ],
   "source": [
    "fix, axes = plt.subplots(1,len(wrong_prediction_8),figsize=(10,10),\n",
    "                        subplot_kw={\"xticks\":(),\"yticks\":()})\n",
    "for i,ax in zip(wrong_prediction_8,axes.ravel()):\n",
    "    ax.imshow(X_test_low[i[0]].reshape(image_shape),cmap=plt.cm.gray)\n",
    "    ax.set_title(\"pred:{}\".format(i[1]))\n",
    "fix, axes = plt.subplots(1,len(wrong_prediction_3),figsize=(10,10),\n",
    "                        subplot_kw={\"xticks\":(),\"yticks\":()})\n",
    "for i,ax in zip(wrong_prediction_3,axes.ravel()):\n",
    "    ax.imshow(X_test_low[i[0]].reshape(image_shape),cmap=plt.cm.gray)\n",
    "    ax.set_title(\"pred:{}\".format(i[1]))"
   ]
  },
  {
   "cell_type": "markdown",
   "metadata": {},
   "source": [
    "### ラベル8と3の分類失敗画像データの表示\n",
    "      続いてラベル8の画像の内3と間違えたものと、ラベル3の内8と間違えたものを表示する。それぞれ上段、下段に表示しているが、上段左上の8はほぼ3のような特徴がはっきり見えており、また下段右下の3は端点がくっつくような形で8のような特徴を示している。こちらの場合もラベル9の誤分類と同様に、他の数字と似たような特徴を持っているが故に誤分類が発生していることがわかる。"
   ]
  },
  {
   "cell_type": "markdown",
   "metadata": {},
   "source": [
    "## 解決案\n",
    "      ここまで述べてきた通り、この分類モデルでは誤分類がいくつか発生している。誤分類を低下させ、分類精度を向上させる案をいくつか提示する。\n",
    "### データ数の加増\n",
    "      トレインデータを増やすことで、現状のデータ数では分類することのできなかった細かい特徴についても学習し、分類できるようになる可能性がある。ただしデータ数の加増は計算コストの増加を引き起こす可能性もある。\n",
    "### パラメータの調整\n",
    "      本レポートでは分類モデルのパラメータ調整にグリッドサーチを用いたが、結局は設定したパラメータの内からパラメータを選択したのみなので、今回設定していないパラメータの方がより高精度な分類モデルを構築できる可能性がある。ただし、あまりに細かい特徴まで分類できるようなパラメータ設定のモデルは汎化性能が低下してしまう恐れがあるため、交差検証などの汎化性能の利用は必須である。\n",
    "### 別の分類アルゴリズムの利用\n",
    "      本レポートではサポートベクターマシンを分類のアルゴリズムとして用いているが、他にも分類問題を解くためのアルゴリズムは存在している。例えば畳みこみニューラルネットワークを用いれば、MNISTに対して99%以上の精度を誇る分類モデルを構築できたという報告もある。"
   ]
  },
  {
   "cell_type": "markdown",
   "metadata": {},
   "source": [
    "### まとめと今後\n",
    "      PCAを用いた次元削減を用いた結果、グリッドサーチのような計算コストが増大しやすい手法でも計算コストを抑えつつ、分類モデルの精度を維持しながら使用できることが示せた。またグリッドサーチを用いることで、適切なパラメータ設定に成功し、高精度かつ高汎化性能を持ったモデルを構築できた。\n",
    "      また、誤分類の発生した画像データを可視化して確認したところ、他のラベルに似た特徴を持っていることで誤分類が発生していることがわかった。\n",
    "      今後は解決策に挙げたような方法で誤分類を減らせるようなモデルの作成や、パラメータ調整をグリッドサーチではなく、ベイズ最適化を用いた効率的な探索も実装していきたい。"
   ]
  }
 ],
 "metadata": {
  "kernelspec": {
   "display_name": "Python 3",
   "language": "python",
   "name": "python3"
  },
  "language_info": {
   "codemirror_mode": {
    "name": "ipython",
    "version": 3
   },
   "file_extension": ".py",
   "mimetype": "text/x-python",
   "name": "python",
   "nbconvert_exporter": "python",
   "pygments_lexer": "ipython3",
   "version": "3.7.0"
  }
 },
 "nbformat": 4,
 "nbformat_minor": 2
}
