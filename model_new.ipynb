{
 "cells": [
  {
   "cell_type": "code",
   "execution_count": 1,
   "metadata": {},
   "outputs": [],
   "source": [
    "from sklearn import svm, metrics\n",
    "from sklearn.model_selection import train_test_split, GridSearchCV\n",
    "from sklearn.pipeline import Pipeline\n",
    "from sklearn.preprocessing import MinMaxScaler\n",
    "from sklearn.decomposition import PCA\n",
    "import numpy as np\n",
    "import pandas as pd\n",
    "import matplotlib.pyplot as plt\n",
    "%matplotlib inline\n",
    "\n",
    "CV_flag = False\n",
    "DATAPATH = \"data/digits.csv\"\n",
    "df = pd.read_csv(DATAPATH)\n",
    "X = df.drop(\"label\",axis=1).values\n",
    "y = df[\"label\"].values\n",
    "labels = df[\"label\"] \n",
    "X_train,X_test,y_train,y_test = train_test_split(X,y,test_size=0.2)\n",
    "pipe = Pipeline([(\"scalar\", MinMaxScaler()),(\"svm\",svm.SVC(C= 1000, degree= 2, \n",
    "                                                           gamma = 0.001, kernel = 'poly'))])\n",
    "pipe_grid = Pipeline([(\"scalar\", MinMaxScaler()),(\"svm\",svm.SVC())])    "
   ]
  },
  {
   "cell_type": "code",
   "execution_count": null,
   "metadata": {},
   "outputs": [
    {
     "name": "stdout",
     "output_type": "stream",
     "text": [
      "1\n",
      "0.0972130813327733\n",
      "2\n",
      "0.16908145912976985\n",
      "3\n",
      "0.23082152615746981\n",
      "4\n",
      "0.2850473856889793\n",
      "5\n",
      "0.3332660589914497\n",
      "6\n",
      "0.37592914471306466\n",
      "7\n",
      "0.4080299207408466\n",
      "8\n",
      "0.43690579712784283\n",
      "9\n",
      "0.4651866588245605\n",
      "10\n",
      "0.48866863424471496\n",
      "11\n",
      "0.5098712800100904\n",
      "12\n",
      "0.5303055563422078\n",
      "13\n",
      "0.5478816279989553\n",
      "14\n",
      "0.5650423187572422\n",
      "15\n",
      "0.5808875958508961\n",
      "16\n",
      "0.5954499836458322\n",
      "17\n",
      "0.608690244976827\n",
      "18\n",
      "0.6216509621815236\n",
      "19\n",
      "0.6333941889293737\n",
      "20\n",
      "0.6450013271587534\n",
      "21\n",
      "0.6559302168513212\n",
      "22\n",
      "0.66616537866345\n",
      "23\n",
      "0.6759024823826654\n",
      "24\n",
      "0.6850670394520553\n",
      "25\n",
      "0.6939229457785718\n",
      "26\n",
      "0.7023154209204203\n",
      "27\n",
      "0.7105708553262278\n",
      "28\n",
      "0.7183852229994147\n",
      "29\n",
      "0.7257933623259838\n",
      "30\n",
      "0.7326188170785924\n",
      "31\n",
      "0.7393422824179228\n",
      "32\n",
      "0.7457892036141583\n",
      "33\n",
      "0.7518646125111255\n",
      "34\n",
      "0.7577227877865825\n",
      "35\n",
      "0.7633210068512148\n",
      "36\n",
      "0.7687151774141884\n",
      "37\n",
      "0.7737693144320831\n",
      "38\n",
      "0.7786921952314241\n",
      "39\n",
      "0.783479767778731\n",
      "40\n",
      "0.7880446960093839\n",
      "41\n",
      "0.7925024198943528\n",
      "42\n",
      "0.796921364170688\n"
     ]
    }
   ],
   "source": [
    "E_list = np.zeros(784)\n",
    "cumsum_explained = np.zeros(784)\n",
    "for i in range(1,784):\n",
    "    pca = PCA(n_components = i)  # 主成分分析オブジェクトの作成\n",
    "    pca.fit(X_train)                       # 主成分分析の実行\n",
    "    transformed = pca.transform(X_train)   # データに対して削減後のベクトルを生成\n",
    "    E = pca.explained_variance_ratio_        # 寄与率\n",
    "    cumsum_explained[i] = np.cumsum(E)[::-1][0]\n",
    "    if cumsum_explained[i] > 90:\n",
    "        break\n",
    "    print(i)\n",
    "    print(cumsum_explained[i])"
   ]
  },
  {
   "cell_type": "code",
   "execution_count": 2,
   "metadata": {},
   "outputs": [
    {
     "name": "stderr",
     "output_type": "stream",
     "text": [
      "C:\\Users\\usami\\Anaconda3\\lib\\site-packages\\sklearn\\utils\\validation.py:475: DataConversionWarning: Data with input dtype int64 was converted to float64 by MinMaxScaler.\n",
      "  warnings.warn(msg, DataConversionWarning)\n"
     ]
    }
   ],
   "source": [
    "if CV_flag == True:\n",
    "    parameters = [\n",
    "                {'svm__C': [1, 10, 100, 1000], 'svm__kernel': ['linear']},\n",
    "                {'svm__C': [1, 10, 100, 1000], 'svm__kernel': ['rbf'], 'svm__gamma': [0.001, 0.0001]},\n",
    "                {'svm__C': [1, 10, 100, 1000], 'svm__kernel': ['poly'], 'svm__degree': [2, 3, 4], 'svm__gamma': [0.001, 0.0001]},\n",
    "                {'svm__C': [1, 10, 100, 1000], 'svm__kernel': ['sigmoid'], 'svm__gamma': [0.001, 0.0001]}]\n",
    "    clf = GridSearchCV(pipe_grid, param_grid=parameters,verbose=2,n_jobs=3)\n",
    "    clf.fit(X_train,y_train)\n",
    "    print(\"Best cv accuracy:{:.2f}\".format(clf.best_score_))\n",
    "    print(\"Test set score: {:.2f}\".format(clf.score(X_test,y_test)))\n",
    "    print(\"Best parameters:{}\".format(clf.best_params_))\n",
    "else:\n",
    "    clf = pipe.fit(X_train,y_train)"
   ]
  },
  {
   "cell_type": "code",
   "execution_count": 3,
   "metadata": {},
   "outputs": [
    {
     "name": "stdout",
     "output_type": "stream",
     "text": [
      "0.96\n",
      "             precision    recall  f1-score   support\n",
      "\n",
      "          0       0.97      1.00      0.98       228\n",
      "          1       0.98      0.99      0.98       207\n",
      "          2       0.96      0.96      0.96       201\n",
      "          3       0.96      0.93      0.95       196\n",
      "          4       0.93      0.97      0.95       191\n",
      "          5       0.94      0.96      0.95       182\n",
      "          6       0.97      0.97      0.97       186\n",
      "          7       0.97      0.95      0.96       204\n",
      "          8       0.96      0.95      0.96       194\n",
      "          9       0.96      0.92      0.94       211\n",
      "\n",
      "avg / total       0.96      0.96      0.96      2000\n",
      "\n",
      "[[227   0   0   0   0   0   1   0   0   0]\n",
      " [  0 205   0   1   0   0   0   0   1   0]\n",
      " [  1   0 193   1   3   0   0   2   1   0]\n",
      " [  0   1   2 182   0   4   1   0   4   2]\n",
      " [  0   0   1   0 185   0   1   0   0   4]\n",
      " [  1   0   1   3   0 174   2   0   0   1]\n",
      " [  1   0   0   0   0   4 180   0   1   0]\n",
      " [  0   2   2   0   5   0   0 194   0   1]\n",
      " [  0   1   2   2   0   3   0   1 185   0]\n",
      " [  3   1   1   0   7   0   0   4   0 195]]\n"
     ]
    }
   ],
   "source": [
    "y_pred = clf.predict(X_test)\n",
    "print(clf.score(X_test,y_test))\n",
    "print(metrics.classification_report(y_test, y_pred, \n",
    "                                    target_names=[\"0\",\"1\",\"2\",\"3\",\"4\",\"5\",\"6\",\"7\",\"8\",\"9\"]))\n",
    "print(metrics.confusion_matrix(y_test, y_pred, labels=range(10)))"
   ]
  },
  {
   "cell_type": "code",
   "execution_count": 4,
   "metadata": {},
   "outputs": [
    {
     "name": "stdout",
     "output_type": "stream",
     "text": [
      "[[194, 0], [530, 4], [717, 8], [722, 4], [1393, 7], [1577, 4], [1830, 7], [1964, 3]]\n"
     ]
    }
   ],
   "source": [
    "wrong_prediction_2 = []\n",
    "for counter,i in enumerate(y_test):\n",
    "    if y_test[counter] == 2:\n",
    "        if y_pred[counter]!=i:\n",
    "            keep_list = [counter,y_pred[counter]]\n",
    "            wrong_prediction_2.append(keep_list)\n",
    "print(wrong_prediction_2)"
   ]
  },
  {
   "cell_type": "code",
   "execution_count": 5,
   "metadata": {},
   "outputs": [
    {
     "data": {
      "image/png": "[encoded data removed]",
      "text/plain": [
       "<Figure size 1080x864 with 15 Axes>"
      ]
     },
     "metadata": {},
     "output_type": "display_data"
    }
   ],
   "source": [
    "image_shape = [28,28]\n",
    "fix, axes = plt.subplots(3,5,figsize=(15,12),\n",
    "                        subplot_kw={\"xticks\":(),\"yticks\":()})\n",
    "for i,ax in zip(wrong_prediction_2,axes.ravel()):\n",
    "    ax.imshow(X_test[i[0]].reshape(image_shape))\n",
    "    ax.set_title(\"pred:{}\".format(i[1]))"
   ]
  },
  {
   "cell_type": "code",
   "execution_count": 6,
   "metadata": {},
   "outputs": [
    {
     "ename": "ValueError",
     "evalue": "cannot reshape array of size 15 into shape (28,28)",
     "output_type": "error",
     "traceback": [
      "\u001b[1;31m---------------------------------------------------------------------------\u001b[0m",
      "\u001b[1;31mValueError\u001b[0m                                Traceback (most recent call last)",
      "\u001b[1;32m<ipython-input-6-d6699aacf32f>\u001b[0m in \u001b[0;36m<module>\u001b[1;34m()\u001b[0m\n\u001b[0;32m      7\u001b[0m                         subplot_kw={\"xticks\":(),\"yticks\":()})\n\u001b[0;32m      8\u001b[0m \u001b[1;32mfor\u001b[0m \u001b[0mi\u001b[0m\u001b[1;33m,\u001b[0m\u001b[0max\u001b[0m \u001b[1;32min\u001b[0m \u001b[0mzip\u001b[0m\u001b[1;33m(\u001b[0m\u001b[0mwrong_prediction_2\u001b[0m\u001b[1;33m,\u001b[0m\u001b[0maxes\u001b[0m\u001b[1;33m.\u001b[0m\u001b[0mravel\u001b[0m\u001b[1;33m(\u001b[0m\u001b[1;33m)\u001b[0m\u001b[1;33m)\u001b[0m\u001b[1;33m:\u001b[0m\u001b[1;33m\u001b[0m\u001b[0m\n\u001b[1;32m----> 9\u001b[1;33m     \u001b[0max\u001b[0m\u001b[1;33m.\u001b[0m\u001b[0mimshow\u001b[0m\u001b[1;33m(\u001b[0m\u001b[0mX_test_nmf\u001b[0m\u001b[1;33m[\u001b[0m\u001b[0mi\u001b[0m\u001b[1;33m[\u001b[0m\u001b[1;36m0\u001b[0m\u001b[1;33m]\u001b[0m\u001b[1;33m]\u001b[0m\u001b[1;33m.\u001b[0m\u001b[0mreshape\u001b[0m\u001b[1;33m(\u001b[0m\u001b[0mimage_shape\u001b[0m\u001b[1;33m)\u001b[0m\u001b[1;33m)\u001b[0m\u001b[1;33m\u001b[0m\u001b[0m\n\u001b[0m\u001b[0;32m     10\u001b[0m     \u001b[0max\u001b[0m\u001b[1;33m.\u001b[0m\u001b[0mset_title\u001b[0m\u001b[1;33m(\u001b[0m\u001b[1;34m\"pred:{}\"\u001b[0m\u001b[1;33m.\u001b[0m\u001b[0mformat\u001b[0m\u001b[1;33m(\u001b[0m\u001b[0mi\u001b[0m\u001b[1;33m[\u001b[0m\u001b[1;36m1\u001b[0m\u001b[1;33m]\u001b[0m\u001b[1;33m)\u001b[0m\u001b[1;33m)\u001b[0m\u001b[1;33m\u001b[0m\u001b[0m\n",
      "\u001b[1;31mValueError\u001b[0m: cannot reshape array of size 15 into shape (28,28)"
     ]
    },
    {
     "data": {
      "image/png": "[encoded data removed]",
      "text/plain": [
       "<Figure size 1080x864 with 15 Axes>"
      ]
     },
     "metadata": {},
     "output_type": "display_data"
    }
   ],
   "source": [
    "nmf = NMF(n_components=15,random_state=0)\n",
    "nmf.fit(X_train)\n",
    "X_train_nmf = nmf.transform(X_train)\n",
    "X_test_nmf = nmf.transform(X_test)\n",
    "\n",
    "fix, axes = plt.subplots(3,5,figsize=(15,12),\n",
    "                        subplot_kw={\"xticks\":(),\"yticks\":()})\n",
    "for i,ax in zip(wrong_prediction_2,axes.ravel()):\n",
    "    ax.imshow(X_test_nmf[i[0]].reshape(image_shape))\n",
    "    ax.set_title(\"pred:{}\".format(i[1]))"
   ]
  },
  {
   "cell_type": "code",
   "execution_count": null,
   "metadata": {},
   "outputs": [],
   "source": [
    "from sklearn.feature_selection import SelectFromModel\n",
    "from sklearn.ensemble import RandomForestClassifier as RFC\n",
    "from sklearn.feature_selection import RFE\n",
    "selecter_pipe = Pipeline([(\"scalar\", MinMaxScaler()),\n",
    "                         (\"select\",SelectFromModel(RFC(n_estimators=100,random_state=42),\n",
    "                                                   threshold=\"median\"))])\n",
    "#selecter_pipe = Pipeline([(\"scalar\", MinMaxScaler()),\n",
    "#                         (\"select\",RFE(RFC(n_estimators=100,random_state=42),\n",
    "#                                                   n_features_to_select=740,verbose=2))])\n",
    "\n",
    "selecter_pipe.fit(X_train,y_train)"
   ]
  },
  {
   "cell_type": "code",
   "execution_count": null,
   "metadata": {},
   "outputs": [],
   "source": [
    "X_train_l1 = selecter_pipe.transform(X_train)\n",
    "print(X_train.shape)\n",
    "print(X_train_l1.shape)"
   ]
  },
  {
   "cell_type": "code",
   "execution_count": null,
   "metadata": {},
   "outputs": [],
   "source": [
    "X_test_l1 = selecter_pipe.transform(X_test)\n",
    "clf_l1 = svm.SVC(C= 1000, degree= 2, \n",
    "                gamma = 0.001, kernel = 'poly').fit(X_train_l1,y_train)\n",
    "score = clf_l1.score(X_test_l1,y_test)\n",
    "print(score)"
   ]
  },
  {
   "cell_type": "code",
   "execution_count": null,
   "metadata": {},
   "outputs": [],
   "source": [
    "y_pred = clf_l1.predict(X_test_l1)\n",
    "print(metrics.classification_report(y_test, y_pred, \n",
    "                                    target_names=[\"0\",\"1\",\"2\",\"3\",\"4\",\"5\",\"6\",\"7\",\"8\",\"9\"]))\n",
    "print(metrics.confusion_matrix(y_test, y_pred, labels=range(10)))"
   ]
  },
  {
   "cell_type": "code",
   "execution_count": null,
   "metadata": {},
   "outputs": [],
   "source": [
    "wrong_prediction_2_l1 = []\n",
    "for counter,i in enumerate(y_test):\n",
    "    if y_test[counter] == 2:\n",
    "        if y_pred[counter]!=i:\n",
    "            keep_list = [counter,y_pred[counter]]\n",
    "            wrong_prediction_2_l1.append(keep_list)\n",
    "print(wrong_prediction_2_l1)"
   ]
  },
  {
   "cell_type": "code",
   "execution_count": null,
   "metadata": {},
   "outputs": [],
   "source": []
  }
 ],
 "metadata": {
  "kernelspec": {
   "display_name": "Python 3",
   "language": "python",
   "name": "python3"
  },
  "language_info": {
   "codemirror_mode": {
    "name": "ipython",
    "version": 3
   },
   "file_extension": ".py",
   "mimetype": "text/x-python",
   "name": "python",
   "nbconvert_exporter": "python",
   "pygments_lexer": "ipython3",
   "version": "3.7.0"
  }
 },
 "nbformat": 4,
 "nbformat_minor": 2
}
