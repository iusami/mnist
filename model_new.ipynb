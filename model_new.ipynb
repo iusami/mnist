{
 "cells": [
  {
   "cell_type": "markdown",
   "metadata": {},
   "source": [
    "# 自動特徴量選択による次元削減とSVMを用いたMNISTの分類\n",
    "\n",
    "## はじめに\n",
    "    MNISTという数字手書き文字のデータセットがある。このデータは28×28ピクセルの手書き数字の画像に対して、0から9までのラベルが振られたデータである。\n",
    "    このレポートでは、10000枚の手書き数字の画像がそれぞれ0から9までのどの数字にあたるかを識別する、SVMを用いたモデルの生成、および生成モデルを用いた推論を実装する。また、性能向上のために用いた交差検証、グリッドサーチ、および自動特徴量選択についても記載する。"
   ]
  },
  {
   "cell_type": "markdown",
   "metadata": {},
   "source": [
    "## レポートの構成について\n",
    "    実行したコードの記載されたセルの次のセルにコードの内容、使用した手法などの説明を記載する形になっている。"
   ]
  },
  {
   "cell_type": "code",
   "execution_count": 1,
   "metadata": {},
   "outputs": [
    {
     "name": "stderr",
     "output_type": "stream",
     "text": [
      "C:\\Users\\usami\\Anaconda3\\lib\\site-packages\\sklearn\\ensemble\\weight_boosting.py:29: DeprecationWarning: numpy.core.umath_tests is an internal NumPy module and should not be imported. It will be removed in a future NumPy release.\n",
      "  from numpy.core.umath_tests import inner1d\n"
     ]
    }
   ],
   "source": [
    "from sklearn import svm, metrics\n",
    "from sklearn.model_selection import train_test_split, cross_val_score, GridSearchCV\n",
    "from sklearn.pipeline import Pipeline\n",
    "from sklearn.feature_selection import SelectFromModel\n",
    "from sklearn.ensemble import RandomForestClassifier as RFC\n",
    "from sklearn.preprocessing import MinMaxScaler\n",
    "import numpy as np\n",
    "import pandas as pd\n",
    "import matplotlib.pyplot as plt\n",
    "%matplotlib inline\n",
    "\n",
    "DATAPATH = \"data/digits.csv\"\n",
    "df = pd.read_csv(DATAPATH)\n",
    "X = df.drop(\"label\",axis=1).values\n",
    "y = df[\"label\"].values\n",
    "X_train,X_test,y_train,y_test = train_test_split(X,y,test_size=0.2,random_state=0)"
   ]
  },
  {
   "cell_type": "markdown",
   "metadata": {},
   "source": [
    "## データセットの用意\n",
    "    ここでcsvからデータをロードし、画像データ、ラベルデータをそれぞれトレイン用のデータ、テスト用のデータに分割する。トレイン用のデータとテスト用のデータを分けることにより、生成したモデルの性能評価を行うことができる。\n",
    "    また、ここではデータ分割にtrain_test_splitというランダムにトレインデータとテストデータを分割する関数を使用しているが、random_stateパラメータを任意に設定することで毎回同じ出力が発生するようにしてある。"
   ]
  },
  {
   "cell_type": "code",
   "execution_count": 2,
   "metadata": {},
   "outputs": [],
   "source": [
    "pipe = Pipeline([(\"scaler\", MinMaxScaler()),(\"svm\",svm.SVC())])\n",
    "pipe_grid = Pipeline([(\"scaler\", MinMaxScaler()),(\"svm\",svm.SVC())])\n",
    "selecter_pipe = Pipeline([(\"scaler\", MinMaxScaler()),\n",
    "                         (\"select\",SelectFromModel(RFC(n_estimators=100,random_state=42),\n",
    "                                                   threshold=\"median\"))])"
   ]
  },
  {
   "cell_type": "markdown",
   "metadata": {},
   "source": [
    "## モデルの設定\n",
    "    ここではpipelineクラスを用いてモデルの設定を行う。pipelineを用いると、様々な処理に対するコード量を減らし、シンプルに記載することができる。また、pipeline内で設定されている各種パラメータの説明を以下で行う。\n",
    "\n",
    "### 前処理\n",
    "    各pipelineではトレインデータに対してMinMaxScaler関数を用いて標準化を行っている。これはデータの特徴量の値を一定の範囲に収める変換であり、本データでは[0,255]→[0,1]になるよう変換される。\n",
    "    標準化のような特徴のスケール変換は機械学習においてデータの前処理によく使用されるが、これはスケールを行うことによって、学習時のパラメータ更新がパラメータごとに偏ることがなくなり、最適解を見つけるまでのステップが少なくなるというメリットがあるからである。"
   ]
  },
  {
   "cell_type": "markdown",
   "metadata": {},
   "source": [
    "### サポートベクターマシン\n",
    "    本レポートにおける分類モデルのアルゴリズムにはサポートベクターマシンを使用している。\n",
    "    サポートベクターマシンとは、線形識別機における重みベクトル、バイアスなどのパラメータ設定をマージン最大化の考えを以て定めるというものである。\n",
    "    マージンとはデータ分類の決定境界と、各クラスのデータ点の最短距離を指す。つまり、求める決定境界が各クラスのデータからなるべく離れたこところに設定するというのがマージン最大化の考え方である。"
   ]
  },
  {
   "cell_type": "markdown",
   "metadata": {},
   "source": [
    "<img src=\"./images/margin_img.png\">"
   ]
  },
  {
   "cell_type": "markdown",
   "metadata": {},
   "source": [
    "    例えば上図の左右の絵を比べてみると、右の絵の方が直線と各クラスの最短の点との距離が左の絵よりも長くなっている。この距離がマージンであり、このマージンを最大化するように境界を求めるというのがサポートベクターマシンの考え方である。"
   ]
  },
  {
   "cell_type": "markdown",
   "metadata": {},
   "source": [
    "### 自動特徴量選択\n",
    "    3つ目のpipelineのselecter_pipeにおいては、特徴量選択にSelectFromModel関数を使用している。この関数はモデルベース特徴量選択という手法を実現するものであり、この手法は教師あり学習モデルを用いて個々の特徴量の重要性を判断し、重要なものだけを残すという手法である。特徴量選択を行うことで、モデルが単純化し汎化性能が向上したり、次元削減となって計算時間の短縮につながったりすることが期待される。\n",
    "    特にモデルベース特徴量選択には特徴量の重要性の指標が出力されるようなモデルを使用しなければ特徴量を選択することができない。そこで今回はモデルとしてランダムフォレストを使用した。ランダムフォレストはfeature_impotances_属性を持ち、これは特徴量の重要性そのものをエンコードしてあるため、特徴量選択の指標として使用することができる。また本レポートでは選択時の閾値として中央値を使用した。"
   ]
  },
  {
   "cell_type": "code",
   "execution_count": 3,
   "metadata": {},
   "outputs": [],
   "source": [
    "def fit_model_CV(X_train,X_test,y_train,y_test,pipe,parameters):\n",
    "        \n",
    "        clf = GridSearchCV(pipe, param_grid=parameters,verbose=2,cv=2,\n",
    "                           n_jobs=-1,return_train_score=False)\n",
    "        clf.fit(X_train,y_train)\n",
    "        print(\"Best cv accuracy:{:.2f}\".format(clf.best_score_))\n",
    "        print(\"Test set score: {:.2f}\".format(clf.score(X_test,y_test)))\n",
    "        print(\"Best parameters:{}\".format(clf.best_params_))\n",
    "        return clf"
   ]
  },
  {
   "cell_type": "markdown",
   "metadata": {},
   "source": [
    "## 交差検証を用いたグリッドサーチ\n",
    "    ここでは交差検証を用いたグリッドサーチを行う関数を作成している。まず交差検証とグリッドサーチについて説明する。\n",
    "### 交差検証\n",
    "    交差検証とは汎化性能を評価する統計的手法である。トレインデータとテストデータの分割を一度だけではなく複数行い、複数の分割方法でそれぞれモデルを訓練する。例えば一度の分割によってクラス分類が難しいデータばかりトレインデータになり、テストデータが簡単なデータばかりになってしまうと、異常に高い精度を得ることとなってしまう。交差検証を行うことで、個々のサンプルがいずれかの分割に含まれている上に、全てのデータが一度だけテストに用いられているので、全てのデータが一度だけテストに用いられることになる。よって、モデルが全サンプルに対して高い汎化性能を持たなければ、交差検証スコアと平均を高くできない。逆に言うと、スコアと平均を見ることにより、訓練したモデルの汎化性能を評価できる。\n",
    "### グリッドサーチ\n",
    "    機械学習で用いられるモデルには様々なパラメータが設定されている。本レポートで使用するサポートベクターマシンにおいても、正則化項、カーネルの種類、カーネルの幅など様々に設定可能なパラメータを持つ。このパラメータを調整することによってモデルの性能を向上させることができる。あらかじめ複数のパラメータを用意し、それら全ての組み合わせに対して訓練を行い、性能を確認する手法をグリッドサーチという。ScikitLearnにはGridsearchCVという交差検証を行いながらグリッドサーチを行う関数が用意されており、今回はこれを用いる。\n",
    "    ただしグリッドサーチには計算時間が増大するというデメリットもある。3×3のパラメータを用意し、かつ3分割交差検証を行うとすると、計27回の訓練を行わなくてはならない。"
   ]
  },
  {
   "cell_type": "code",
   "execution_count": 4,
   "metadata": {},
   "outputs": [
    {
     "name": "stdout",
     "output_type": "stream",
     "text": [
      "Fitting 2 folds for each of 44 candidates, totalling 88 fits\n"
     ]
    },
    {
     "name": "stderr",
     "output_type": "stream",
     "text": [
      "[Parallel(n_jobs=-1)]: Done  33 tasks      | elapsed:  7.1min\n",
      "[Parallel(n_jobs=-1)]: Done  88 out of  88 | elapsed: 20.2min finished\n",
      "C:\\Users\\usami\\Anaconda3\\lib\\site-packages\\sklearn\\utils\\validation.py:475: DataConversionWarning: Data with input dtype int64 was converted to float64 by MinMaxScaler.\n",
      "  warnings.warn(msg, DataConversionWarning)\n"
     ]
    },
    {
     "name": "stdout",
     "output_type": "stream",
     "text": [
      "Best cv accuracy:0.95\n",
      "Test set score: 0.96\n",
      "Best parameters:{'svm__C': 1000, 'svm__degree': 2, 'svm__gamma': 0.001, 'svm__kernel': 'poly'}\n"
     ]
    }
   ],
   "source": [
    "parameters = [\n",
    "            {'svm__C': [1, 10, 100, 1000], 'svm__kernel': ['linear']},\n",
    "            {'svm__C': [1, 10, 100, 1000], 'svm__kernel': ['rbf'], 'svm__gamma': [0.001, 0.0001]},\n",
    "            {'svm__C': [1, 10, 100, 1000], 'svm__kernel': ['poly'], 'svm__degree': [2, 3, 4], 'svm__gamma': [0.001, 0.0001]},\n",
    "            {'svm__C': [1, 10, 100, 1000], 'svm__kernel': ['sigmoid'], 'svm__gamma': [0.001, 0.0001]}\n",
    "            ]\n",
    "clf_cv = fit_model_CV(X_train,X_test,y_train,y_test,pipe_grid,parameters)"
   ]
  },
  {
   "cell_type": "code",
   "execution_count": 5,
   "metadata": {},
   "outputs": [
    {
     "name": "stdout",
     "output_type": "stream",
     "text": [
      "[0.96205691 0.95802099 0.9645     0.95397699 0.95743615]\n"
     ]
    },
    {
     "name": "stderr",
     "output_type": "stream",
     "text": [
      "[Parallel(n_jobs=-1)]: Done   5 out of   5 | elapsed:  1.0min finished\n"
     ]
    }
   ],
   "source": [
    "pipe_val = Pipeline([(\"scalar\", MinMaxScaler()),\n",
    "                     (\"svm\",svm.SVC(C=1000,kernel=\"poly\",degree=2,gamma=0.001))])\n",
    "print(cross_val_score(pipe_val,X,y,cv=5,verbose=2,n_jobs=-1))"
   ]
  },
  {
   "cell_type": "code",
   "execution_count": 26,
   "metadata": {
    "scrolled": true
   },
   "outputs": [
    {
     "name": "stdout",
     "output_type": "stream",
     "text": [
      "params             {'svm__C': 1000, 'svm__degree': 2, 'svm__gamma': 0.001, 'svm__kernel': 'poly'}\n",
      "mean_test_score                                                                           0.94725\n",
      "Name: 30, dtype: object\n",
      "params             {'svm__C': 1, 'svm__degree': 2, 'svm__gamma': 0.0001, 'svm__kernel': 'poly'}\n",
      "mean_test_score                                                                         0.10925\n",
      "Name: 13, dtype: object\n"
     ]
    }
   ],
   "source": [
    "cv_result_df = pd.DataFrame(clf_cv.cv_results_)\n",
    "pd.set_option('display.max_colwidth',100)\n",
    "maxidx = cv_result_df[\"mean_test_score\"].idxmax()\n",
    "minidx = cv_result_df[\"mean_test_score\"].idxmin()\n",
    "print(cv_result_df.loc[maxidx,[\"params\",\"mean_test_score\"]])\n",
    "print(cv_result_df.loc[minidx,[\"params\",\"mean_test_score\"]])"
   ]
  },
  {
   "cell_type": "markdown",
   "metadata": {},
   "source": [
    "## グリッドサーチの実行\n",
    "### グリッドサーチの内容について\n",
    "    ここで設定したパラメータの組み合わせに対して交差検証を用いたグリッドサーチを行う。44のパラメータ組み合わせに対して2分割交差検証を行っているので、計88回の訓練が行われる。2分割交差検証は交差検証の分割数としては少なく、精度が低下する可能性があるが、グリッドサーチにおいては各パラメータの大小を比較するのが大目的なので大きな問題はない。\n",
    "### 実行結果\n",
    "    グリッドサーチの結果、与えたパラメータの中ではC=1000,kernel=\"poly\",degree=2,gamma=0.001の組み合わせが最もよく、テストデータに対して96%の正答率を返した。ただし2分割交差検証は分割数として少ないので、再度5分割交差検証を行って交差検証を行っている。こちらもおおよそ96%程度の正答率を返しており、高精度かつ汎化性能の高いモデルを構築できたと言える。\n",
    "    またグリッドサーチを行った全てのパラメータの内、平均テストスコアが最大のものと最小のものを比較してみる。最大のスコアは0.95,最小は0.11となっており、パラメータ調整によって性能が大きく変化することが見て取れ、パラメータ調整の重要性、およびグリッドサーチの有用性を示す結果となった。"
   ]
  },
  {
   "cell_type": "code",
   "execution_count": 44,
   "metadata": {},
   "outputs": [
    {
     "name": "stderr",
     "output_type": "stream",
     "text": [
      "C:\\Users\\usami\\Anaconda3\\lib\\site-packages\\sklearn\\utils\\validation.py:475: DataConversionWarning: Data with input dtype int64 was converted to float64 by MinMaxScaler.\n",
      "  warnings.warn(msg, DataConversionWarning)\n"
     ]
    },
    {
     "name": "stdout",
     "output_type": "stream",
     "text": [
      "(8000, 392)\n"
     ]
    }
   ],
   "source": [
    "X_train_l1 = selecter_pipe.fit_transform(X_train,y_train)\n",
    "X_test_l1 = selecter_pipe.transform(X_test)\n",
    "print(X_train_l1.shape)"
   ]
  },
  {
   "cell_type": "code",
   "execution_count": 38,
   "metadata": {},
   "outputs": [
    {
     "name": "stdout",
     "output_type": "stream",
     "text": [
      "Fitting 2 folds for each of 44 candidates, totalling 88 fits\n"
     ]
    },
    {
     "name": "stderr",
     "output_type": "stream",
     "text": [
      "[Parallel(n_jobs=-1)]: Done  33 tasks      | elapsed:  3.6min\n",
      "[Parallel(n_jobs=-1)]: Done  88 out of  88 | elapsed: 10.4min finished\n"
     ]
    },
    {
     "name": "stdout",
     "output_type": "stream",
     "text": [
      "Best cv accuracy:0.95\n",
      "Test set score: 0.96\n",
      "Best parameters:{'C': 1000, 'degree': 2, 'gamma': 0.001, 'kernel': 'poly'}\n"
     ]
    }
   ],
   "source": [
    "parameters2 = [\n",
    "            {'C': [1, 10, 100, 1000], 'kernel': ['linear']},\n",
    "            {'C': [1, 10, 100, 1000], 'kernel': ['rbf'], 'gamma': [0.001, 0.0001]},\n",
    "            {'C': [1, 10, 100, 1000], 'kernel': ['poly'], 'degree': [2, 3, 4], 'gamma': [0.001, 0.0001]},\n",
    "            {'C': [1, 10, 100, 1000], 'kernel': ['sigmoid'], 'gamma': [0.001, 0.0001]}\n",
    "            ]\n",
    "clf_l1 = GridSearchCV(svm.SVC(), param_grid=parameters2,verbose=2,cv=2,\n",
    "                           n_jobs=-1,return_train_score=False)\n",
    "clf_l1.fit(X_train_l1,y_train)\n",
    "print(\"Best cv accuracy:{:.2f}\".format(clf_l1.best_score_))\n",
    "print(\"Test set score: {:.2f}\".format(clf_l1.score(X_test_l1,y_test)))\n",
    "print(\"Best parameters:{}\".format(clf_l1.best_params_))"
   ]
  },
  {
   "cell_type": "code",
   "execution_count": 39,
   "metadata": {},
   "outputs": [
    {
     "name": "stdout",
     "output_type": "stream",
     "text": [
      "[0.96137072 0.96004994 0.95121951 0.95619524 0.95300752]\n"
     ]
    },
    {
     "name": "stderr",
     "output_type": "stream",
     "text": [
      "[Parallel(n_jobs=-1)]: Done   5 out of   5 | elapsed:   22.4s finished\n"
     ]
    }
   ],
   "source": [
    "print(cross_val_score(pipe_val,X_train_l1,y_train,cv=5,verbose=2,n_jobs=-1))"
   ]
  },
  {
   "cell_type": "code",
   "execution_count": 41,
   "metadata": {},
   "outputs": [
    {
     "name": "stdout",
     "output_type": "stream",
     "text": [
      "0.9585\n",
      "             precision    recall  f1-score   support\n",
      "\n",
      "          0       0.95      1.00      0.97       204\n",
      "          1       0.97      0.99      0.98       221\n",
      "          2       0.96      0.93      0.94       173\n",
      "          3       0.97      0.94      0.96       218\n",
      "          4       0.96      0.98      0.97       197\n",
      "          5       0.95      0.96      0.95       183\n",
      "          6       0.96      0.98      0.97       202\n",
      "          7       0.97      0.97      0.97       223\n",
      "          8       0.93      0.90      0.91       183\n",
      "          9       0.95      0.93      0.94       196\n",
      "\n",
      "avg / total       0.96      0.96      0.96      2000\n",
      "\n",
      "[[203   0   0   0   0   0   1   0   0   0]\n",
      " [  0 219   0   1   0   0   1   0   0   0]\n",
      " [  2   1 161   0   3   0   0   3   3   0]\n",
      " [  0   0   3 205   0   1   3   0   3   3]\n",
      " [  0   0   0   0 193   0   0   0   0   4]\n",
      " [  2   1   0   0   0 175   2   0   3   0]\n",
      " [  2   0   1   0   0   1 197   0   1   0]\n",
      " [  0   2   1   0   0   1   0 217   0   2]\n",
      " [  1   2   2   5   1   5   1   1 164   1]\n",
      " [  3   0   0   0   4   1   1   2   2 183]]\n"
     ]
    }
   ],
   "source": [
    "y_pred = clf_l1.predict(X_test_l1)\n",
    "print(clf_l1.score(X_test_l1,y_test))\n",
    "print(metrics.classification_report(y_test, y_pred, \n",
    "                                    target_names=[\"0\",\"1\",\"2\",\"3\",\"4\",\"5\",\"6\",\"7\",\"8\",\"9\"]))\n",
    "print(metrics.confusion_matrix(y_test, y_pred, labels=range(10)))"
   ]
  },
  {
   "cell_type": "code",
   "execution_count": 42,
   "metadata": {
    "scrolled": true
   },
   "outputs": [
    {
     "name": "stdout",
     "output_type": "stream",
     "text": [
      "[[111, 1], [142, 2], [177, 3], [277, 5], [416, 5], [461, 7], [533, 1], [718, 9], [758, 5], [804, 3], [980, 3], [1132, 3], [1147, 5], [1152, 5], [1235, 6], [1469, 4], [1501, 2], [1608, 3], [1988, 0]]\n"
     ]
    }
   ],
   "source": [
    "wrong_prediction = []\n",
    "wrong_X = []\n",
    "wrong_y\n",
    "for counter,i in enumerate(y_test):\n",
    "    if y_test[counter] == 8:\n",
    "        if y_pred[counter]!=i:\n",
    "            keep_list = [counter,y_pred[counter]]\n",
    "            wrong_prediction.append(keep_list)\n",
    "            wrong_X.append(X_)\n",
    "print(wrong_prediction)"
   ]
  },
  {
   "cell_type": "code",
   "execution_count": 43,
   "metadata": {},
   "outputs": [
    {
     "data": {
      "image/png": "[encoded data removed]",
      "text/plain": [
       "<Figure size 1080x864 with 8 Axes>"
      ]
     },
     "metadata": {},
     "output_type": "display_data"
    }
   ],
   "source": [
    "image_shape = [28,28]\n",
    "fix, axes = plt.subplots(2,4,figsize=(15,12),\n",
    "                        subplot_kw={\"xticks\":(),\"yticks\":()})\n",
    "for i,ax in zip(wrong_prediction,axes.ravel()):\n",
    "    ax.imshow(X_test[i[0]].reshape(image_shape))\n",
    "    ax.set_title(\"pred:{}\".format(i[1]))"
   ]
  },
  {
   "cell_type": "code",
   "execution_count": null,
   "metadata": {},
   "outputs": [],
   "source": [
    "selecter_pipe."
   ]
  },
  {
   "cell_type": "code",
   "execution_count": null,
   "metadata": {},
   "outputs": [],
   "source": [
    "from matplotlib.colors import ListedColormap\n",
    "def plot_decision_regions(X, y, classifier, resolution=0.5):\n",
    "\n",
    "    # setup marker generator and color map\n",
    "    colors = (\"red\",\"blue\",\"orange\",\"cyan\",\"green\",\n",
    "          \"gray\", \"pink\",\"yellow\",\"brown\",\"black\")\n",
    "    cmap = ListedColormap(colors[:len(np.unique(y))])\n",
    "\n",
    "    # plot the decision surface\n",
    "    x1_min, x1_max = X[:, 0].min() - 1, X[:, 0].max() + 1\n",
    "    x2_min, x2_max = X[:, 1].min() - 1, X[:, 1].max() + 1\n",
    "    xx1, xx2 = np.meshgrid(np.arange(x1_min, x1_max, resolution),\n",
    "                         np.arange(x2_min, x2_max, resolution))\n",
    "    Z = classifier.predict(np.array([xx1.ravel(), xx2.ravel()]).T)\n",
    "    Z = Z.reshape(xx1.shape)\n",
    "    plt.contourf(xx1, xx2, Z, alpha=0.4, cmap=cmap)\n",
    "    plt.xlim(xx1.min(), xx1.max())\n",
    "    plt.ylim(xx2.min(), xx2.max())\n",
    "\n",
    "    # plot class samples\n",
    "    for idx, cl in enumerate(np.unique(y)):\n",
    "        plt.scatter(x=X[y == cl, 0], y=X[y == cl, 1],\n",
    "                    alpha=0.8, c=cmap(idx),\n",
    "                     label=cl)"
   ]
  },
  {
   "cell_type": "code",
   "execution_count": 19,
   "metadata": {},
   "outputs": [
    {
     "name": "stderr",
     "output_type": "stream",
     "text": [
      "C:\\Users\\usami\\Anaconda3\\lib\\site-packages\\sklearn\\utils\\validation.py:475: DataConversionWarning: Data with input dtype int64 was converted to float64 by StandardScaler.\n",
      "  warnings.warn(msg, DataConversionWarning)\n"
     ]
    },
    {
     "name": "stdout",
     "output_type": "stream",
     "text": [
      "0.9575\n",
      "             precision    recall  f1-score   support\n",
      "\n",
      "          0       0.98      0.99      0.98       216\n",
      "          1       0.96      0.98      0.97       195\n",
      "          2       0.96      0.96      0.96       198\n",
      "          3       0.96      0.94      0.95       202\n",
      "          4       0.95      0.95      0.95       200\n",
      "          5       0.94      0.98      0.96       182\n",
      "          6       1.00      0.96      0.98       218\n",
      "          7       0.97      0.92      0.94       209\n",
      "          8       0.92      0.94      0.93       196\n",
      "          9       0.94      0.95      0.95       184\n",
      "\n",
      "avg / total       0.96      0.96      0.96      2000\n",
      "\n",
      "[[214   0   0   0   0   1   0   0   0   1]\n",
      " [  0 192   1   1   0   0   0   1   0   0]\n",
      " [  0   0 190   2   2   0   0   1   3   0]\n",
      " [  0   2   0 189   0   2   0   0   8   1]\n",
      " [  1   1   0   0 191   2   0   0   1   4]\n",
      " [  0   2   1   1   0 178   0   0   0   0]\n",
      " [  1   1   1   0   0   2 210   0   3   0]\n",
      " [  1   2   4   0   4   1   0 192   1   4]\n",
      " [  2   1   0   2   2   4   0   0 184   1]\n",
      " [  0   0   1   1   3   0   0   4   0 175]]\n"
     ]
    }
   ],
   "source": [
    "pipe.fit(X_train,y_train)\n",
    "y_pred = pipe.predict(X_test)\n",
    "print(pipe.score(X_test,y_test))\n",
    "print(metrics.classification_report(y_test, y_pred, \n",
    "                                    target_names=[\"0\",\"1\",\"2\",\"3\",\"4\",\"5\",\"6\",\"7\",\"8\",\"9\"]))\n",
    "print(metrics.confusion_matrix(y_test, y_pred, labels=range(10)))"
   ]
  },
  {
   "cell_type": "code",
   "execution_count": 21,
   "metadata": {},
   "outputs": [
    {
     "name": "stdout",
     "output_type": "stream",
     "text": [
      "[[103, 5], [337, 5], [758, 0], [1264, 4], [1374, 0], [1444, 3], [1478, 3], [1513, 4], [1552, 9], [1565, 5], [1716, 1], [1839, 5]]\n"
     ]
    }
   ],
   "source": [
    "wrong_prediction_8_l1 = []\n",
    "for counter,i in enumerate(y_test):\n",
    "    if y_test[counter] == 8:\n",
    "        if y_pred[counter]!=i:\n",
    "            keep_list = [counter,y_pred[counter]]\n",
    "            wrong_prediction_8_l1.append(keep_list)\n",
    "print(wrong_prediction_8_l1)"
   ]
  },
  {
   "cell_type": "code",
   "execution_count": 22,
   "metadata": {},
   "outputs": [
    {
     "data": {
      "image/png": "[encoded data removed]",
      "text/plain": [
       "<Figure size 1080x864 with 8 Axes>"
      ]
     },
     "metadata": {},
     "output_type": "display_data"
    }
   ],
   "source": [
    "fix, axes = plt.subplots(2,4,figsize=(15,12),\n",
    "                        subplot_kw={\"xticks\":(),\"yticks\":()})\n",
    "for i,ax in zip(wrong_prediction,axes.ravel()):\n",
    "    ax.imshow(X_test[i[0]].reshape(image_shape))\n",
    "    ax.set_title(\"pred:{}\".format(i[1]))"
   ]
  },
  {
   "cell_type": "code",
   "execution_count": null,
   "metadata": {},
   "outputs": [],
   "source": []
  }
 ],
 "metadata": {
  "kernelspec": {
   "display_name": "Python 3",
   "language": "python",
   "name": "python3"
  },
  "language_info": {
   "codemirror_mode": {
    "name": "ipython",
    "version": 3
   },
   "file_extension": ".py",
   "mimetype": "text/x-python",
   "name": "python",
   "nbconvert_exporter": "python",
   "pygments_lexer": "ipython3",
   "version": "3.7.0"
  }
 },
 "nbformat": 4,
 "nbformat_minor": 2
}
