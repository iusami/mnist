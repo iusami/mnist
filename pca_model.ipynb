{
 "cells": [
  {
   "cell_type": "markdown",
   "metadata": {},
   "source": [
    "# PCAによる次元削減とSVMを用いたMNISTの分類\n",
    "\n",
    "## はじめに\n",
    "    MNISTという数字手書き文字のデータセットがある。このデータは28×28ピクセルの手書き数字の画像に対して、0から9までのラベルが振られたデータである。\n",
    "    このレポートでは、10000枚の手書き数字の画像がそれぞれ0から9までのどの数字にあたるかを識別する、SVMを用いたモデルの生成、および生成モデルを用いた推論を実装する。また、性能向上のために用いた交差検証、グリッドサーチ、およびPCA(主成分分析)による次元削減についても記載する。\n",
    "    \n",
    "## レポートの構成について\n",
    "    実行したコードの記載されたセルの次のセルにコードの内容、使用した手法などの説明を記載する形になっている。"
   ]
  },
  {
   "cell_type": "code",
   "execution_count": 2,
   "metadata": {},
   "outputs": [],
   "source": [
    "from sklearn import svm, metrics\n",
    "from sklearn.model_selection import train_test_split, cross_val_score, GridSearchCV\n",
    "from sklearn.decomposition import NMF,PCA\n",
    "from sklearn.manifold import TSNE\n",
    "import numpy as np\n",
    "import pandas as pd\n",
    "import matplotlib.pyplot as plt\n",
    "%matplotlib inline\n",
    "DATAPATH = \"data/digits.csv\"\n",
    "image_shape=(28,28)\n",
    "df = pd.read_csv(DATAPATH)\n",
    "y = df[\"label\"].values\n",
    "labels = df[\"label\"] \n",
    "X = df.drop(\"label\",axis=1).values/255\n",
    "X_train,X_test,y_train,y_test = train_test_split(X,y,test_size=0.2,random_state = 0)"
   ]
  },
  {
   "cell_type": "markdown",
   "metadata": {},
   "source": [
    "## データセットの用意\n",
    "    ここでcsvからデータをロードし、画像データ、ラベルデータをそれぞれトレイン用のデータ、テスト用のデータに分割する。トレイン用のデータとテスト用のデータを分けることにより、生成したモデルの性能評価を行うことができる。\n",
    "    また、ここではデータ分割にtrain_test_splitというランダムにトレインデータとテストデータを分割する関数を使用しているが、random_stateパラメータを任意に設定することで毎回同じ出力が発生するようにしてある。また、ロードしたターゲットデータは最大値の255割ってスケールしている。こうすることで学習時のパラメータ更新がパラメータごとに偏ることがなくなり、最適解を見つけるまでのステップが少なくなるというメリットがある。この処理を前処理という。"
   ]
  },
  {
   "cell_type": "code",
   "execution_count": 3,
   "metadata": {},
   "outputs": [
    {
     "name": "stdout",
     "output_type": "stream",
     "text": [
      "43\n",
      "0.8013124141578981\n"
     ]
    }
   ],
   "source": [
    "pca = PCA(0.8)\n",
    "pca.fit(X_train)\n",
    "X_train_pca = pca.transform(X_train)\n",
    "X_test_pca = pca.transform(X_test)\n",
    "print(pca.n_components_)\n",
    "print(np.sum(pca.explained_variance_ratio_))"
   ]
  },
  {
   "cell_type": "markdown",
   "metadata": {},
   "source": [
    "## PCAによる次元削減\n",
    "    ここでPCAによる次元削減を行う。PCAとは主成分を計算し、n次元のデータの内あるm(<<n)個の主成分でデータ全体の何%を説明できるかを分析することである。例えばここではオリジナルの画像データの分散の80%を説明できる主成分がいくつ必要かを求めている。結果、43個の変数でオリジナルの画像データの分散の80%が説明できることがわかる。次元削減を行うことで、過学習の抑制や計算時間の短縮が期待できる。"
   ]
  },
  {
   "cell_type": "code",
   "execution_count": 4,
   "metadata": {},
   "outputs": [
    {
     "data": {
      "image/png": "[encoded data removed]",
      "text/plain": [
       "<Figure size 1080x864 with 5 Axes>"
      ]
     },
     "metadata": {},
     "output_type": "display_data"
    },
    {
     "data": {
      "image/png": "[encoded data removed]",
      "text/plain": [
       "<Figure size 1080x864 with 5 Axes>"
      ]
     },
     "metadata": {},
     "output_type": "display_data"
    }
   ],
   "source": [
    "X_train_low = pca.inverse_transform(X_train_pca)\n",
    "X_test_low = pca.inverse_transform(X_test_pca)\n",
    "image_shape = [28,28]\n",
    "fix, axes1 = plt.subplots(1,5,figsize=(15,12),\n",
    "                        subplot_kw={\"xticks\":(),\"yticks\":()})\n",
    "fix2, axes2 = plt.subplots(1,5,figsize=(15,12),\n",
    "                        subplot_kw={\"xticks\":(),\"yticks\":()})\n",
    "\n",
    "for i,ax in zip(range(5),axes1.ravel()):\n",
    "    ax.imshow((X_train[i]*255).reshape(image_shape),cmap=plt.cm.gray)\n",
    "    ax.set_title(\"number:{}\".format(y_train[i]))\n",
    "for i,ax in zip(range(5),axes2.ravel()):\n",
    "    ax.imshow((X_train_low[i]*255).reshape(image_shape),cmap=plt.cm.gray)\n",
    "    ax.set_title(\"number:{}\".format(y_train[i]))\n"
   ]
  },
  {
   "cell_type": "markdown",
   "metadata": {},
   "source": [
    "## 次元削減後のデータの可視化\n",
    "    次元削減前の画像データと次元削減後の画像データを書き出して比較してみると、おおよそ元の特徴を保持しているように見える。"
   ]
  },
  {
   "cell_type": "code",
   "execution_count": 5,
   "metadata": {},
   "outputs": [
    {
     "name": "stdout",
     "output_type": "stream",
     "text": [
      "Fitting 2 folds for each of 44 candidates, totalling 88 fits\n"
     ]
    },
    {
     "name": "stderr",
     "output_type": "stream",
     "text": [
      "[Parallel(n_jobs=-1)]: Done  33 tasks      | elapsed: 10.1min\n",
      "[Parallel(n_jobs=-1)]: Done  88 out of  88 | elapsed: 27.8min finished\n"
     ]
    }
   ],
   "source": [
    "parameters = [\n",
    "    {'C': [1, 10, 100, 1000], 'kernel': ['linear']},\n",
    "    {'C': [1, 10, 100, 1000], 'kernel': ['rbf'], 'gamma': [0.001, 0.0001]},\n",
    "    {'C': [1, 10, 100, 1000], 'kernel': ['poly'], 'degree': [2, 3, 4], 'gamma': [0.001, 0.0001]},\n",
    "    {'C': [1, 10, 100, 1000], 'kernel': ['sigmoid'], 'gamma': [0.001, 0.0001]}\n",
    "    ]\n",
    "clf = svm.SVC(parameters)\n",
    "clf = GridSearchCV(clf, parameters, verbose=2,n_jobs=-1,cv=2,return_train_score=True)\n",
    "clf.fit(X_train,y_train)"
   ]
  },
  {
   "cell_type": "code",
   "execution_count": 7,
   "metadata": {},
   "outputs": [
    {
     "name": "stdout",
     "output_type": "stream",
     "text": [
      "0.959\n"
     ]
    }
   ],
   "source": [
    "print(clf.score(X_test,y_test))"
   ]
  },
  {
   "cell_type": "code",
   "execution_count": 6,
   "metadata": {},
   "outputs": [
    {
     "name": "stdout",
     "output_type": "stream",
     "text": [
      "Fitting 2 folds for each of 44 candidates, totalling 88 fits\n"
     ]
    },
    {
     "name": "stderr",
     "output_type": "stream",
     "text": [
      "[Parallel(n_jobs=-1)]: Done  33 tasks      | elapsed:  1.2min\n",
      "[Parallel(n_jobs=-1)]: Done  88 out of  88 | elapsed:  2.4min finished\n"
     ]
    }
   ],
   "source": [
    "clf_pca = svm.SVC(parameters)\n",
    "clf_pca = GridSearchCV(clf_pca, parameters, verbose=2,n_jobs=-1,cv=2,return_train_score=True)\n",
    "clf_pca.fit(X_train_pca,y_train)"
   ]
  },
  {
   "cell_type": "code",
   "execution_count": 8,
   "metadata": {},
   "outputs": [
    {
     "name": "stdout",
     "output_type": "stream",
     "text": [
      "0.963\n"
     ]
    }
   ],
   "source": [
    "print(clf_pca.score(X_test_pca,y_test))"
   ]
  },
  {
   "cell_type": "code",
   "execution_count": 9,
   "metadata": {},
   "outputs": [
    {
     "name": "stdout",
     "output_type": "stream",
     "text": [
      "Best estimator found by grid search:\n",
      "Best parameters:{'C': 1000, 'degree': 2, 'gamma': 0.001, 'kernel': 'poly'}\n",
      "Best parameters_pca:{'C': 1000, 'degree': 2, 'gamma': 0.001, 'kernel': 'poly'}\n"
     ]
    }
   ],
   "source": [
    "print(\"Best estimator found by grid search:\")\n",
    "print(\"Best parameters:{}\".format(clf.best_params_))\n",
    "print(\"Best parameters_pca:{}\".format(clf_pca.best_params_))"
   ]
  },
  {
   "cell_type": "code",
   "execution_count": null,
   "metadata": {},
   "outputs": [],
   "source": []
  },
  {
   "cell_type": "code",
   "execution_count": 5,
   "metadata": {},
   "outputs": [
    {
     "name": "stderr",
     "output_type": "stream",
     "text": [
      "[Parallel(n_jobs=-1)]: Done   5 out of   5 | elapsed:   44.3s finished\n"
     ]
    },
    {
     "name": "stdout",
     "output_type": "stream",
     "text": [
      "Normal CV score: [0.96323988 0.95942572 0.95309568 0.95682103 0.95551378]\n",
      "PCA CV score: [0.96448598 0.96067416 0.95559725 0.95932416 0.95864662]\n"
     ]
    },
    {
     "name": "stderr",
     "output_type": "stream",
     "text": [
      "[Parallel(n_jobs=-1)]: Done   5 out of   5 | elapsed:    4.9s finished\n"
     ]
    }
   ],
   "source": [
    "clf_cv = svm.SVC(C=1000,degree=2,gamma=0.001,kernel=\"poly\")\n",
    "print(\"Normal CV score:\",cross_val_score(clf_cv,X_train,y_train,cv=5,verbose=2,n_jobs=-1))\n",
    "print(\"PCA CV score:\",cross_val_score(clf_cv,X_train_pca,y_train,cv=5,verbose=2,n_jobs=-1))"
   ]
  },
  {
   "cell_type": "code",
   "execution_count": 18,
   "metadata": {},
   "outputs": [
    {
     "name": "stdout",
     "output_type": "stream",
     "text": [
      "params             {'C': 1000, 'degree': 2, 'gamma': 0.001, 'kernel': 'poly'}\n",
      "mean_test_score                                                      0.952125\n",
      "Name: 30, dtype: object\n",
      "params             {'C': 1, 'degree': 2, 'gamma': 0.001, 'kernel': 'poly'}\n",
      "mean_test_score                                                    0.10925\n",
      "Name: 12, dtype: object\n"
     ]
    },
    {
     "name": "stderr",
     "output_type": "stream",
     "text": [
      "C:\\Users\\usami\\Anaconda3\\lib\\site-packages\\sklearn\\utils\\deprecation.py:122: FutureWarning: You are accessing a training score ('split0_train_score'), which will not be available by default any more in 0.21. If you need training scores, please set return_train_score=True\n",
      "  warnings.warn(*warn_args, **warn_kwargs)\n",
      "C:\\Users\\usami\\Anaconda3\\lib\\site-packages\\sklearn\\utils\\deprecation.py:122: FutureWarning: You are accessing a training score ('split1_train_score'), which will not be available by default any more in 0.21. If you need training scores, please set return_train_score=True\n",
      "  warnings.warn(*warn_args, **warn_kwargs)\n",
      "C:\\Users\\usami\\Anaconda3\\lib\\site-packages\\sklearn\\utils\\deprecation.py:122: FutureWarning: You are accessing a training score ('mean_train_score'), which will not be available by default any more in 0.21. If you need training scores, please set return_train_score=True\n",
      "  warnings.warn(*warn_args, **warn_kwargs)\n",
      "C:\\Users\\usami\\Anaconda3\\lib\\site-packages\\sklearn\\utils\\deprecation.py:122: FutureWarning: You are accessing a training score ('std_train_score'), which will not be available by default any more in 0.21. If you need training scores, please set return_train_score=True\n",
      "  warnings.warn(*warn_args, **warn_kwargs)\n"
     ]
    }
   ],
   "source": [
    "cv_result_df = pd.DataFrame(clf_pca.cv_results_)\n",
    "pd.set_option('display.max_colwidth',100)\n",
    "maxidx = cv_result_df[\"mean_test_score\"].idxmax()\n",
    "minidx = cv_result_df[\"mean_test_score\"].idxmin()\n",
    "print(cv_result_df.loc[maxidx,[\"params\",\"mean_test_score\"]])\n",
    "print(cv_result_df.loc[minidx,[\"params\",\"mean_test_score\"]])"
   ]
  },
  {
   "cell_type": "code",
   "execution_count": 6,
   "metadata": {},
   "outputs": [
    {
     "name": "stdout",
     "output_type": "stream",
     "text": [
      "0.9515\n",
      "             precision    recall  f1-score   support\n",
      "\n",
      "          0       0.98      0.99      0.98       203\n",
      "          1       0.96      0.97      0.97       217\n",
      "          2       0.94      0.92      0.93       230\n",
      "          3       0.94      0.96      0.95       183\n",
      "          4       0.95      0.96      0.96       194\n",
      "          5       0.95      0.92      0.94       178\n",
      "          6       0.96      0.99      0.98       203\n",
      "          7       0.97      0.93      0.95       215\n",
      "          8       0.93      0.92      0.93       182\n",
      "          9       0.93      0.95      0.94       195\n",
      "\n",
      "avg / total       0.95      0.95      0.95      2000\n",
      "\n",
      "[[201   0   0   0   1   0   0   0   1   0]\n",
      " [  0 210   1   2   2   0   2   0   0   0]\n",
      " [  1   5 212   0   2   1   3   2   2   2]\n",
      " [  0   0   3 175   0   1   0   1   1   2]\n",
      " [  0   0   0   0 187   0   2   1   0   4]\n",
      " [  1   0   3   3   0 164   0   0   5   2]\n",
      " [  0   0   0   0   0   2 201   0   0   0]\n",
      " [  3   2   5   1   3   0   0 200   0   1]\n",
      " [  0   1   1   4   1   2   1   0 168   4]\n",
      " [  0   0   1   1   1   2   0   2   3 185]]\n"
     ]
    }
   ],
   "source": [
    "#結果検証\n",
    "y_pred = clf.predict(X_test)\n",
    "print(test_score)\n",
    "print(metrics.classification_report(y_test, y_pred, \n",
    "                                    target_names=[\"0\",\"1\",\"2\",\"3\",\"4\",\"5\",\"6\",\"7\",\"8\",\"9\"]))\n",
    "print(metrics.confusion_matrix(y_test, y_pred, labels=range(10)))"
   ]
  },
  {
   "cell_type": "code",
   "execution_count": null,
   "metadata": {},
   "outputs": [],
   "source": [
    "#結果検証pca\n",
    "y_pred_pca = clf_pca.predict(X_test_pca)\n",
    "print(test_score)\n",
    "print(metrics.classification_report(y_test, y_pred_pca, \n",
    "                                    target_names=[\"0\",\"1\",\"2\",\"3\",\"4\",\"5\",\"6\",\"7\",\"8\",\"9\"]))\n",
    "print(metrics.confusion_matrix(y_test, y_pred_pca, labels=range(10)))"
   ]
  }
 ],
 "metadata": {
  "kernelspec": {
   "display_name": "Python 3",
   "language": "python",
   "name": "python3"
  },
  "language_info": {
   "codemirror_mode": {
    "name": "ipython",
    "version": 3
   },
   "file_extension": ".py",
   "mimetype": "text/x-python",
   "name": "python",
   "nbconvert_exporter": "python",
   "pygments_lexer": "ipython3",
   "version": "3.7.0"
  }
 },
 "nbformat": 4,
 "nbformat_minor": 2
}
