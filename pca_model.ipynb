{
 "cells": [
  {
   "cell_type": "code",
   "execution_count": 2,
   "metadata": {},
   "outputs": [],
   "source": [
    "from sklearn import svm, metrics\n",
    "from sklearn.model_selection import train_test_split,  GridSearchCV\n",
    "from sklearn.decomposition import NMF,PCA\n",
    "from sklearn.manifold import TSNE\n",
    "import numpy as np\n",
    "import pandas as pd\n",
    "import matplotlib.pyplot as plt\n",
    "%matplotlib inline\n",
    "DATAPATH = \"data/digits.csv\"\n",
    "image_shape=(28,28)"
   ]
  },
  {
   "cell_type": "code",
   "execution_count": 3,
   "metadata": {},
   "outputs": [],
   "source": [
    "df = pd.read_csv(DATAPATH)\n",
    "#df_s = df.sort_values('label')\n",
    "y = df[\"label\"].values\n",
    "labels = df[\"label\"] \n",
    "X = df.drop(\"label\",axis=1).values/255\n",
    "org_X = df.drop(\"label\",axis=1)\n",
    "#print(df.head())\n",
    "#print(df.shape)\n",
    "#print(y)\n",
    "#print(X)\n",
    "X_train,X_test,y_train,y_test = train_test_split(X,y,test_size=0.2)"
   ]
  },
  {
   "cell_type": "code",
   "execution_count": 5,
   "metadata": {},
   "outputs": [
    {
     "name": "stdout",
     "output_type": "stream",
     "text": [
      "Fitting 3 folds for each of 44 candidates, totalling 132 fits\n"
     ]
    },
    {
     "name": "stderr",
     "output_type": "stream",
     "text": [
      "[Parallel(n_jobs=-1)]: Done  33 tasks      | elapsed:  1.5min\n",
      "[Parallel(n_jobs=-1)]: Done 132 out of 132 | elapsed:  5.3min finished\n"
     ]
    },
    {
     "name": "stdout",
     "output_type": "stream",
     "text": [
      "0.947\n",
      "             precision    recall  f1-score   support\n",
      "\n",
      "          0       0.94      0.97      0.96       211\n",
      "          1       0.99      0.99      0.99       221\n",
      "          2       0.95      0.95      0.95       215\n",
      "          3       0.92      0.89      0.91       190\n",
      "          4       0.96      0.95      0.96       199\n",
      "          5       0.97      0.92      0.95       182\n",
      "          6       0.96      0.96      0.96       205\n",
      "          7       0.95      0.95      0.95       203\n",
      "          8       0.89      0.97      0.93       176\n",
      "          9       0.93      0.91      0.92       198\n",
      "\n",
      "avg / total       0.95      0.95      0.95      2000\n",
      "\n",
      "[[204   0   0   0   2   1   3   0   0   1]\n",
      " [  0 218   0   1   0   0   0   0   1   1]\n",
      " [  0   1 205   1   2   0   0   5   1   0]\n",
      " [  3   1   3 170   0   3   0   1   9   0]\n",
      " [  0   0   1   0 190   0   2   0   0   6]\n",
      " [  1   0   1   4   0 168   1   0   4   3]\n",
      " [  4   0   1   1   0   1 196   0   2   0]\n",
      " [  2   0   4   0   1   0   1 192   0   3]\n",
      " [  0   0   0   4   0   0   1   1 170   0]\n",
      " [  2   1   1   3   3   0   0   4   3 181]]\n"
     ]
    }
   ],
   "source": [
    "pca = PCA(n_components=15,random_state=0)\n",
    "pca.fit(X_train)\n",
    "X_train_pca = pca.transform(X_train)\n",
    "X_test_pca = pca.transform(X_test)\n",
    "parameters = [\n",
    "    {'C': [1, 10, 100, 1000], 'kernel': ['linear']},\n",
    "    {'C': [1, 10, 100, 1000], 'kernel': ['rbf'], 'gamma': [0.001, 0.0001]},\n",
    "    {'C': [1, 10, 100, 1000], 'kernel': ['poly'], 'degree': [2, 3, 4], 'gamma': [0.001, 0.0001]},\n",
    "    {'C': [1, 10, 100, 1000], 'kernel': ['sigmoid'], 'gamma': [0.001, 0.0001]}\n",
    "    ]\n",
    "clf = svm.SVC(parameters)\n",
    "\n",
    "\n",
    "clf = GridSearchCV(clf, parameters, verbose=2,n_jobs=-1)\n",
    "clf.fit(X_train_pca,y_train)\n",
    "test_score = clf.score(X_test_pca,y_test)\n",
    "y_pred_pca = clf.predict(X_test_pca)\n",
    "print(test_score)\n",
    "print(metrics.classification_report(y_test, y_pred_pca, \n",
    "                                    target_names=[\"0\",\"1\",\"2\",\"3\",\"4\",\"5\",\"6\",\"7\",\"8\",\"9\"]))\n",
    "print(metrics.confusion_matrix(y_test, y_pred_pca, labels=range(10)))"
   ]
  },
  {
   "cell_type": "code",
   "execution_count": 6,
   "metadata": {},
   "outputs": [
    {
     "name": "stdout",
     "output_type": "stream",
     "text": [
      "Best estimator found by grid search:\n",
      "SVC(C=1000, cache_size=200, class_weight=None, coef0=0.0,\n",
      "  decision_function_shape='ovr', degree=3, gamma=0.001, kernel='rbf',\n",
      "  max_iter=-1, probability=False, random_state=None, shrinking=True,\n",
      "  tol=0.001, verbose=False)\n"
     ]
    }
   ],
   "source": [
    "print(\"Best estimator found by grid search:\")\n",
    "print(clf.best_estimator_)"
   ]
  },
  {
   "cell_type": "code",
   "execution_count": 7,
   "metadata": {},
   "outputs": [
    {
     "name": "stdout",
     "output_type": "stream",
     "text": [
      "0.9999742070254674\n",
      "0.9999756244018205\n",
      "0.9999769343637126\n",
      "0.9999781993255481\n",
      "0.9999794560708856\n",
      "0.9999806327900338\n",
      "0.9999817367381845\n",
      "0.9999828159533616\n",
      "0.9999838750561726\n",
      "0.9999848057112124\n",
      "0.9999857144304798\n",
      "0.9999865653230251\n",
      "0.9999873678282136\n",
      "0.9999881404713687\n",
      "0.9999888844055639\n",
      "0.9999896316269762\n",
      "0.9999903158480568\n",
      "0.9999909644987793\n",
      "0.9999916087814449\n",
      "0.9999922273077771\n",
      "0.9999927926010532\n",
      "0.9999933444603327\n",
      "0.999993879868631\n",
      "0.9999943732655583\n",
      "0.999994860689367\n",
      "0.9999953293158735\n",
      "0.9999957780275744\n",
      "0.9999962179792484\n",
      "0.9999966511030763\n",
      "0.9999970305290851\n",
      "0.9999973251836882\n",
      "0.9999975996281256\n",
      "0.9999978579912193\n",
      "0.9999981084767514\n",
      "0.9999983490137281\n",
      "0.9999985859831722\n",
      "0.9999987720101466\n",
      "0.9999989394564525\n",
      "0.9999990671610854\n",
      "0.9999991905579061\n",
      "0.9999993133428263\n",
      "0.9999994304819965\n",
      "0.9999995425133885\n",
      "0.999999640652607\n",
      "0.9999997206189019\n",
      "0.9999997802193925\n",
      "0.9999998371120083\n",
      "0.9999998827917561\n",
      "0.9999999270329558\n",
      "0.9999999565238745\n",
      "0.9999999790185901\n",
      "0.9999999875155756\n",
      "0.9999999952690429\n",
      "0.9999999998598023\n",
      "0.999999999940114\n",
      "0.9999999999999988\n",
      "656\n"
     ]
    },
    {
     "data": {
      "image/png": "[encoded data removed]",
      "text/plain": [
       "<Figure size 432x288 with 1 Axes>"
      ]
     },
     "metadata": {
      "needs_background": "light"
     },
     "output_type": "display_data"
    }
   ],
   "source": [
    "E_list = np.zeros(784)\n",
    "cumsum_explained = np.zeros(784)\n",
    "for i in range(600,784):\n",
    "    pca = PCA(n_components = i)  # 主成分分析オブジェクトの作成\n",
    "    pca.fit(X_train)                       # 主成分分析の実行\n",
    "    transformed = pca.transform(X_train)   # データに対して削減後のベクトルを生成\n",
    "    E = pca.explained_variance_ratio_        # 寄与率\n",
    "    cumsum_explained[i] = np.cumsum(E)[::-1][0]\n",
    "    if cumsum_explained[i] == cumsum_explained[i-1]:\n",
    "        print(i)\n",
    "        break\n",
    "    print(cumsum_explained[i])\n",
    "plt.plot(cumsum_explained)\n",
    "plt.show()"
   ]
  },
  {
   "cell_type": "code",
   "execution_count": 18,
   "metadata": {},
   "outputs": [
    {
     "ename": "TypeError",
     "evalue": "must be real number, not list",
     "output_type": "error",
     "traceback": [
      "\u001b[1;31m---------------------------------------------------------------------------\u001b[0m",
      "\u001b[1;31mTypeError\u001b[0m                                 Traceback (most recent call last)",
      "\u001b[1;32m<ipython-input-18-843d14d07df4>\u001b[0m in \u001b[0;36m<module>\u001b[1;34m()\u001b[0m\n\u001b[0;32m      5\u001b[0m \u001b[0mparameter\u001b[0m \u001b[1;33m=\u001b[0m \u001b[1;33m[\u001b[0m\u001b[1;33m{\u001b[0m\u001b[1;34m\"C\"\u001b[0m\u001b[1;33m:\u001b[0m\u001b[1;33m[\u001b[0m\u001b[1;36m1000\u001b[0m\u001b[1;33m]\u001b[0m\u001b[1;33m,\u001b[0m\u001b[1;34m\"kernel\"\u001b[0m\u001b[1;33m:\u001b[0m\u001b[1;33m[\u001b[0m\u001b[1;34m\"rbf\"\u001b[0m\u001b[1;33m]\u001b[0m\u001b[1;33m,\u001b[0m\u001b[1;34m\"gamma\"\u001b[0m\u001b[1;33m:\u001b[0m\u001b[1;33m[\u001b[0m\u001b[1;36m0.001\u001b[0m\u001b[1;33m]\u001b[0m\u001b[1;33m}\u001b[0m\u001b[1;33m]\u001b[0m\u001b[1;33m\u001b[0m\u001b[0m\n\u001b[0;32m      6\u001b[0m \u001b[0mclf\u001b[0m \u001b[1;33m=\u001b[0m \u001b[0msvm\u001b[0m\u001b[1;33m.\u001b[0m\u001b[0mSVC\u001b[0m\u001b[1;33m(\u001b[0m\u001b[0mparameter\u001b[0m\u001b[1;33m)\u001b[0m\u001b[1;33m\u001b[0m\u001b[0m\n\u001b[1;32m----> 7\u001b[1;33m \u001b[0mclf\u001b[0m\u001b[1;33m.\u001b[0m\u001b[0mfit\u001b[0m\u001b[1;33m(\u001b[0m\u001b[0mX_train_pca\u001b[0m\u001b[1;33m,\u001b[0m\u001b[0my_train\u001b[0m\u001b[1;33m)\u001b[0m\u001b[1;33m\u001b[0m\u001b[0m\n\u001b[0m\u001b[0;32m      8\u001b[0m \u001b[0mtest_score\u001b[0m \u001b[1;33m=\u001b[0m \u001b[0mclf\u001b[0m\u001b[1;33m.\u001b[0m\u001b[0mscore\u001b[0m\u001b[1;33m(\u001b[0m\u001b[0mX_test_pca\u001b[0m\u001b[1;33m,\u001b[0m\u001b[0my_test\u001b[0m\u001b[1;33m)\u001b[0m\u001b[1;33m\u001b[0m\u001b[0m\n\u001b[0;32m      9\u001b[0m \u001b[0my_pred_pca\u001b[0m \u001b[1;33m=\u001b[0m \u001b[0mclf\u001b[0m\u001b[1;33m.\u001b[0m\u001b[0mpredict\u001b[0m\u001b[1;33m(\u001b[0m\u001b[0mX_test_pca\u001b[0m\u001b[1;33m)\u001b[0m\u001b[1;33m\u001b[0m\u001b[0m\n",
      "\u001b[1;32m~\\Anaconda3\\lib\\site-packages\\sklearn\\svm\\base.py\u001b[0m in \u001b[0;36mfit\u001b[1;34m(self, X, y, sample_weight)\u001b[0m\n\u001b[0;32m    185\u001b[0m \u001b[1;33m\u001b[0m\u001b[0m\n\u001b[0;32m    186\u001b[0m         \u001b[0mseed\u001b[0m \u001b[1;33m=\u001b[0m \u001b[0mrnd\u001b[0m\u001b[1;33m.\u001b[0m\u001b[0mrandint\u001b[0m\u001b[1;33m(\u001b[0m\u001b[0mnp\u001b[0m\u001b[1;33m.\u001b[0m\u001b[0miinfo\u001b[0m\u001b[1;33m(\u001b[0m\u001b[1;34m'i'\u001b[0m\u001b[1;33m)\u001b[0m\u001b[1;33m.\u001b[0m\u001b[0mmax\u001b[0m\u001b[1;33m)\u001b[0m\u001b[1;33m\u001b[0m\u001b[0m\n\u001b[1;32m--> 187\u001b[1;33m         \u001b[0mfit\u001b[0m\u001b[1;33m(\u001b[0m\u001b[0mX\u001b[0m\u001b[1;33m,\u001b[0m \u001b[0my\u001b[0m\u001b[1;33m,\u001b[0m \u001b[0msample_weight\u001b[0m\u001b[1;33m,\u001b[0m \u001b[0msolver_type\u001b[0m\u001b[1;33m,\u001b[0m \u001b[0mkernel\u001b[0m\u001b[1;33m,\u001b[0m \u001b[0mrandom_seed\u001b[0m\u001b[1;33m=\u001b[0m\u001b[0mseed\u001b[0m\u001b[1;33m)\u001b[0m\u001b[1;33m\u001b[0m\u001b[0m\n\u001b[0m\u001b[0;32m    188\u001b[0m         \u001b[1;31m# see comment on the other call to np.iinfo in this file\u001b[0m\u001b[1;33m\u001b[0m\u001b[1;33m\u001b[0m\u001b[0m\n\u001b[0;32m    189\u001b[0m \u001b[1;33m\u001b[0m\u001b[0m\n",
      "\u001b[1;32m~\\Anaconda3\\lib\\site-packages\\sklearn\\svm\\base.py\u001b[0m in \u001b[0;36m_dense_fit\u001b[1;34m(self, X, y, sample_weight, solver_type, kernel, random_seed)\u001b[0m\n\u001b[0;32m    252\u001b[0m                 \u001b[0mcache_size\u001b[0m\u001b[1;33m=\u001b[0m\u001b[0mself\u001b[0m\u001b[1;33m.\u001b[0m\u001b[0mcache_size\u001b[0m\u001b[1;33m,\u001b[0m \u001b[0mcoef0\u001b[0m\u001b[1;33m=\u001b[0m\u001b[0mself\u001b[0m\u001b[1;33m.\u001b[0m\u001b[0mcoef0\u001b[0m\u001b[1;33m,\u001b[0m\u001b[1;33m\u001b[0m\u001b[0m\n\u001b[0;32m    253\u001b[0m                 \u001b[0mgamma\u001b[0m\u001b[1;33m=\u001b[0m\u001b[0mself\u001b[0m\u001b[1;33m.\u001b[0m\u001b[0m_gamma\u001b[0m\u001b[1;33m,\u001b[0m \u001b[0mepsilon\u001b[0m\u001b[1;33m=\u001b[0m\u001b[0mself\u001b[0m\u001b[1;33m.\u001b[0m\u001b[0mepsilon\u001b[0m\u001b[1;33m,\u001b[0m\u001b[1;33m\u001b[0m\u001b[0m\n\u001b[1;32m--> 254\u001b[1;33m                 max_iter=self.max_iter, random_seed=random_seed)\n\u001b[0m\u001b[0;32m    255\u001b[0m \u001b[1;33m\u001b[0m\u001b[0m\n\u001b[0;32m    256\u001b[0m         \u001b[0mself\u001b[0m\u001b[1;33m.\u001b[0m\u001b[0m_warn_from_fit_status\u001b[0m\u001b[1;33m(\u001b[0m\u001b[1;33m)\u001b[0m\u001b[1;33m\u001b[0m\u001b[0m\n",
      "\u001b[1;32msklearn/svm/libsvm.pyx\u001b[0m in \u001b[0;36msklearn.svm.libsvm.fit\u001b[1;34m()\u001b[0m\n",
      "\u001b[1;31mTypeError\u001b[0m: must be real number, not list"
     ]
    }
   ],
   "source": [
    "pca = PCA(n_components = 784,random_state=0)  # 主成分分析オブジェクトの作成\n",
    "pca.fit(X_train)  # 主成分分析の実行\n",
    "X_train_pca = pca.transform(X_train)\n",
    "X_test_pca = pca.transform(X_test)\n",
    "parameter = [{\"C\":[1000],\"kernel\":[\"rbf\"],\"gamma\":[0.001]}]\n",
    "clf = svm.SVC(parameter)\n",
    "clf.fit(X_train_pca,y_train)\n",
    "test_score = clf.score(X_test_pca,y_test)\n",
    "y_pred_pca = clf.predict(X_test_pca)\n",
    "print(test_score)\n",
    "print(metrics.classification_report(y_test, y_pred_pca, \n",
    "                                    target_names=[\"0\",\"1\",\"2\",\"3\",\"4\",\"5\",\"6\",\"7\",\"8\",\"9\"]))\n",
    "print(metrics.confusion_matrix(y_test, y_pred_pca, labels=range(10)))"
   ]
  }
 ],
 "metadata": {
  "kernelspec": {
   "display_name": "Python 3",
   "language": "python",
   "name": "python3"
  },
  "language_info": {
   "codemirror_mode": {
    "name": "ipython",
    "version": 3
   },
   "file_extension": ".py",
   "mimetype": "text/x-python",
   "name": "python",
   "nbconvert_exporter": "python",
   "pygments_lexer": "ipython3",
   "version": "3.7.0"
  }
 },
 "nbformat": 4,
 "nbformat_minor": 2
}
